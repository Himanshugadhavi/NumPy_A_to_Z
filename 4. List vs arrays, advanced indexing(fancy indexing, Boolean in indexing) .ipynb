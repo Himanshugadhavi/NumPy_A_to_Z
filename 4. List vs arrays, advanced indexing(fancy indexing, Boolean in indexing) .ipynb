{
 "cells": [
  {
   "cell_type": "code",
   "execution_count": 1,
   "id": "91fd7f24",
   "metadata": {},
   "outputs": [],
   "source": [
    "import numpy as np"
   ]
  },
  {
   "cell_type": "markdown",
   "id": "d71deab1",
   "metadata": {},
   "source": [
    "# 1. Numpy Array Vs. Python Lists\n",
    "* python list data type will not be usefull when we want to apply the machine learning algorithms, that's why we are using the nd array or numpy array data type\n",
    ">* **Benefits of using numpy :**\n",
    "    >1. Faster\n",
    "    >2. Convenient\n",
    "    >3. Less memory"
   ]
  },
  {
   "cell_type": "markdown",
   "id": "2f483bfc",
   "metadata": {},
   "source": [
    "#### 1.faster speed"
   ]
  },
  {
   "cell_type": "code",
   "execution_count": 2,
   "id": "3018a70f",
   "metadata": {},
   "outputs": [
    {
     "data": {
      "text/plain": [
       "' we are creating two list with 1 crore items'"
      ]
     },
     "execution_count": 2,
     "metadata": {},
     "output_type": "execute_result"
    }
   ],
   "source": [
    "# time taken by list\n",
    "a = [i for i in range(10000000)]\n",
    "b = [i for i in range(10000000,20000000)]\n",
    "''' we are creating two list with 1 crore items'''"
   ]
  },
  {
   "cell_type": "code",
   "execution_count": 3,
   "id": "204563a0",
   "metadata": {},
   "outputs": [
    {
     "name": "stdout",
     "output_type": "stream",
     "text": [
      "2.554750680923462\n"
     ]
    }
   ],
   "source": [
    "c = []\n",
    "\n",
    "import time \n",
    "\n",
    "start = time.time()\n",
    "\n",
    "for i in range(len(a)):\n",
    "    c.append(a[i] + b[i])\n",
    "print(time.time()-start)"
   ]
  },
  {
   "cell_type": "code",
   "execution_count": 4,
   "id": "ca205c12",
   "metadata": {},
   "outputs": [
    {
     "name": "stdout",
     "output_type": "stream",
     "text": [
      "0.09445667266845703\n"
     ]
    }
   ],
   "source": [
    "#  time taken by NumPy array\n",
    "a = np.arange(10000000)\n",
    "b = np.arange(10000000,20000000)\n",
    "\n",
    "start = time.time()\n",
    "c = a + b\n",
    "print(time.time()-start)"
   ]
  },
  {
   "cell_type": "markdown",
   "id": "ff7d5d2d",
   "metadata": {},
   "source": [
    "* from above two cell we can say that numpy arrays take lesser time in executing the code"
   ]
  },
  {
   "cell_type": "markdown",
   "id": "0c8b2e6b",
   "metadata": {},
   "source": [
    "#### 2.less memory\n",
    "* for the same number of items, numpy array occupies less size of the memory than list"
   ]
  },
  {
   "cell_type": "code",
   "execution_count": 5,
   "id": "8531949d",
   "metadata": {},
   "outputs": [
    {
     "data": {
      "text/plain": [
       "89095160"
      ]
     },
     "execution_count": 5,
     "metadata": {},
     "output_type": "execute_result"
    }
   ],
   "source": [
    "# we are making a python list with 1 crore items\n",
    "a = [i for i in range(10000000)]\n",
    "\n",
    "import sys\n",
    "sys.getsizeof(a)"
   ]
  },
  {
   "cell_type": "code",
   "execution_count": 6,
   "id": "97588103",
   "metadata": {},
   "outputs": [
    {
     "data": {
      "text/plain": [
       "10000104"
      ]
     },
     "execution_count": 6,
     "metadata": {},
     "output_type": "execute_result"
    }
   ],
   "source": [
    "a = np.arange(10000000,dtype=np.int8)\n",
    "sys.getsizeof(a)"
   ]
  },
  {
   "cell_type": "markdown",
   "id": "c8fdffd8",
   "metadata": {},
   "source": [
    "#### 3.convenience\n",
    "* codes are easy to write"
   ]
  },
  {
   "cell_type": "markdown",
   "id": "af95554f",
   "metadata": {},
   "source": [
    "# 2. Advanced indexing"
   ]
  },
  {
   "cell_type": "code",
   "execution_count": 7,
   "id": "562b639f",
   "metadata": {},
   "outputs": [
    {
     "data": {
      "text/plain": [
       "array([[ 0,  1,  2],\n",
       "       [ 3,  4,  5],\n",
       "       [ 6,  7,  8],\n",
       "       [ 9, 10, 11]])"
      ]
     },
     "execution_count": 7,
     "metadata": {},
     "output_type": "execute_result"
    }
   ],
   "source": [
    "# Normal Indexing and slicing\n",
    "a = np.arange(12).reshape(4,3)\n",
    "a"
   ]
  },
  {
   "cell_type": "code",
   "execution_count": 8,
   "id": "a71ff567",
   "metadata": {},
   "outputs": [
    {
     "data": {
      "text/plain": [
       "5"
      ]
     },
     "execution_count": 8,
     "metadata": {},
     "output_type": "execute_result"
    }
   ],
   "source": [
    "a[1,2]"
   ]
  },
  {
   "cell_type": "code",
   "execution_count": 9,
   "id": "3a1d4f8b",
   "metadata": {},
   "outputs": [
    {
     "data": {
      "text/plain": [
       "array([[4, 5],\n",
       "       [7, 8]])"
      ]
     },
     "execution_count": 9,
     "metadata": {},
     "output_type": "execute_result"
    }
   ],
   "source": [
    "a[1:3,1:3]"
   ]
  },
  {
   "cell_type": "markdown",
   "id": "8e206378",
   "metadata": {},
   "source": [
    "## a. fancy indexing"
   ]
  },
  {
   "cell_type": "code",
   "execution_count": 10,
   "id": "209746fd",
   "metadata": {},
   "outputs": [
    {
     "data": {
      "text/plain": [
       "array([[ 0,  1,  2],\n",
       "       [ 3,  4,  5],\n",
       "       [ 6,  7,  8],\n",
       "       [ 9, 10, 11]])"
      ]
     },
     "execution_count": 10,
     "metadata": {},
     "output_type": "execute_result"
    }
   ],
   "source": [
    "a"
   ]
  },
  {
   "cell_type": "markdown",
   "id": "64272feb",
   "metadata": {},
   "source": [
    ">* if we want first, third and fourth row\n",
    ">* here in such cases we can not use normal indexing"
   ]
  },
  {
   "cell_type": "code",
   "execution_count": 11,
   "id": "50309bf2",
   "metadata": {},
   "outputs": [
    {
     "data": {
      "text/plain": [
       "array([[ 0,  1,  2],\n",
       "       [ 6,  7,  8],\n",
       "       [ 9, 10, 11]])"
      ]
     },
     "execution_count": 11,
     "metadata": {},
     "output_type": "execute_result"
    }
   ],
   "source": [
    "a[[0,2,3]]\n",
    "# here we are passing list of rows that we want"
   ]
  },
  {
   "cell_type": "code",
   "execution_count": 12,
   "id": "9de9e4d9",
   "metadata": {},
   "outputs": [
    {
     "data": {
      "text/plain": [
       "array([[ 0,  1,  2,  3],\n",
       "       [ 4,  5,  6,  7],\n",
       "       [ 8,  9, 10, 11],\n",
       "       [12, 13, 14, 15],\n",
       "       [16, 17, 18, 19],\n",
       "       [20, 21, 22, 23]])"
      ]
     },
     "execution_count": 12,
     "metadata": {},
     "output_type": "execute_result"
    }
   ],
   "source": [
    "b = np.arange(24).reshape(6,4)\n",
    "b"
   ]
  },
  {
   "cell_type": "code",
   "execution_count": 13,
   "id": "4b9eeb78",
   "metadata": {},
   "outputs": [
    {
     "data": {
      "text/plain": [
       "array([[ 0,  1,  2,  3],\n",
       "       [ 8,  9, 10, 11],\n",
       "       [12, 13, 14, 15],\n",
       "       [20, 21, 22, 23]])"
      ]
     },
     "execution_count": 13,
     "metadata": {},
     "output_type": "execute_result"
    }
   ],
   "source": [
    "# we want 1,3,4,6 row\n",
    "b[[0,2,3,5]]"
   ]
  },
  {
   "cell_type": "code",
   "execution_count": 14,
   "id": "0bcc7670",
   "metadata": {},
   "outputs": [
    {
     "data": {
      "text/plain": [
       "array([[ 0,  2,  3],\n",
       "       [ 4,  6,  7],\n",
       "       [ 8, 10, 11],\n",
       "       [12, 14, 15],\n",
       "       [16, 18, 19],\n",
       "       [20, 22, 23]])"
      ]
     },
     "execution_count": 14,
     "metadata": {},
     "output_type": "execute_result"
    }
   ],
   "source": [
    "# we want 1,2 and 4th column\n",
    "b[:,[0,2,3]]"
   ]
  },
  {
   "cell_type": "markdown",
   "id": "fd1e178b",
   "metadata": {},
   "source": [
    "## b. Boolean indexing\n",
    "* we can do conditional indexing and get the items accordingly\n",
    "* suppose we want values which are >50, in such case we can use python operators and we can send it inside \n",
    "* result will be the array with the same shape and the resultant array is a boolean array"
   ]
  },
  {
   "cell_type": "code",
   "execution_count": 15,
   "id": "d5065702",
   "metadata": {},
   "outputs": [
    {
     "data": {
      "text/plain": [
       "array([[12, 14, 45, 17],\n",
       "       [80, 22, 14, 75],\n",
       "       [38, 76, 53, 66],\n",
       "       [73, 93, 92, 71],\n",
       "       [86, 50, 88, 48],\n",
       "       [48, 94, 46, 41]])"
      ]
     },
     "execution_count": 15,
     "metadata": {},
     "output_type": "execute_result"
    }
   ],
   "source": [
    "a = np.random.randint(low=1,high=100,size=24).reshape(6,4)\n",
    "a"
   ]
  },
  {
   "cell_type": "markdown",
   "id": "f9a88ec4",
   "metadata": {},
   "source": [
    ">* find all numbers greater than 50"
   ]
  },
  {
   "cell_type": "code",
   "execution_count": 16,
   "id": "03d79ad8",
   "metadata": {},
   "outputs": [
    {
     "data": {
      "text/plain": [
       "'we will get the boolean array because\\nevery item inside the array is True or False '"
      ]
     },
     "execution_count": 16,
     "metadata": {},
     "output_type": "execute_result"
    }
   ],
   "source": [
    "a > 50\n",
    "# here item wise comparision will be done\n",
    "'''we will get the boolean array because\n",
    "every item inside the array is True or False '''"
   ]
  },
  {
   "cell_type": "code",
   "execution_count": 17,
   "id": "a159ba65",
   "metadata": {},
   "outputs": [
    {
     "data": {
      "text/plain": [
       "array([80, 75, 76, 53, 66, 73, 93, 92, 71, 86, 88, 94])"
      ]
     },
     "execution_count": 17,
     "metadata": {},
     "output_type": "execute_result"
    }
   ],
   "source": [
    "'''now we can use the above boolean array as mask,\n",
    "and we can do filtering through that,\n",
    "here we will pick the boolean array and \n",
    "put it in the original array\n",
    "then we will get the values according to our condition'''\n",
    "a[a > 50]"
   ]
  },
  {
   "cell_type": "markdown",
   "id": "7ea6d0a8",
   "metadata": {},
   "source": [
    ">* find out even numbers"
   ]
  },
  {
   "cell_type": "code",
   "execution_count": 18,
   "id": "66eea17e",
   "metadata": {},
   "outputs": [
    {
     "data": {
      "text/plain": [
       "array([[ True,  True, False, False],\n",
       "       [ True,  True,  True, False],\n",
       "       [ True,  True, False,  True],\n",
       "       [False, False,  True, False],\n",
       "       [ True,  True,  True,  True],\n",
       "       [ True,  True,  True, False]])"
      ]
     },
     "execution_count": 18,
     "metadata": {},
     "output_type": "execute_result"
    }
   ],
   "source": [
    "a % 2 == 0"
   ]
  },
  {
   "cell_type": "code",
   "execution_count": 19,
   "id": "632b5af0",
   "metadata": {},
   "outputs": [
    {
     "data": {
      "text/plain": [
       "array([12, 14, 80, 22, 14, 38, 76, 66, 92, 86, 50, 88, 48, 48, 94, 46])"
      ]
     },
     "execution_count": 19,
     "metadata": {},
     "output_type": "execute_result"
    }
   ],
   "source": [
    "a[a % 2 == 0]"
   ]
  },
  {
   "cell_type": "markdown",
   "id": "52e6df9c",
   "metadata": {},
   "source": [
    ">* find the number greater than 50 and are even"
   ]
  },
  {
   "cell_type": "code",
   "execution_count": 20,
   "id": "1c54ae7d",
   "metadata": {},
   "outputs": [
    {
     "data": {
      "text/plain": [
       "array([[False, False, False, False],\n",
       "       [ True, False, False, False],\n",
       "       [False,  True, False,  True],\n",
       "       [False, False,  True, False],\n",
       "       [ True, False,  True, False],\n",
       "       [False,  True, False, False]])"
      ]
     },
     "execution_count": 20,
     "metadata": {},
     "output_type": "execute_result"
    }
   ],
   "source": [
    "(a > 50) & (a % 2 == 0)\n",
    "# Note : here we are using bitwise & operator"
   ]
  },
  {
   "cell_type": "code",
   "execution_count": 21,
   "id": "54310382",
   "metadata": {},
   "outputs": [
    {
     "data": {
      "text/plain": [
       "array([80, 76, 66, 92, 86, 88, 94])"
      ]
     },
     "execution_count": 21,
     "metadata": {},
     "output_type": "execute_result"
    }
   ],
   "source": [
    "a[(a > 50) & (a % 2 == 0)]"
   ]
  },
  {
   "cell_type": "markdown",
   "id": "13dd4388",
   "metadata": {},
   "source": [
    ">* find all the numbers which are not divisible by 7"
   ]
  },
  {
   "cell_type": "code",
   "execution_count": 22,
   "id": "f09b7fcb",
   "metadata": {},
   "outputs": [
    {
     "data": {
      "text/plain": [
       "array([[ True, False,  True,  True],\n",
       "       [ True,  True, False,  True],\n",
       "       [ True,  True,  True,  True],\n",
       "       [ True,  True,  True,  True],\n",
       "       [ True,  True,  True,  True],\n",
       "       [ True,  True,  True,  True]])"
      ]
     },
     "execution_count": 22,
     "metadata": {},
     "output_type": "execute_result"
    }
   ],
   "source": [
    "a % 7 != 0"
   ]
  },
  {
   "cell_type": "code",
   "execution_count": 23,
   "id": "c88f6090",
   "metadata": {
    "scrolled": true
   },
   "outputs": [
    {
     "data": {
      "text/plain": [
       "array([12, 45, 17, 80, 22, 75, 38, 76, 53, 66, 73, 93, 92, 71, 86, 50, 88,\n",
       "       48, 48, 94, 46, 41])"
      ]
     },
     "execution_count": 23,
     "metadata": {},
     "output_type": "execute_result"
    }
   ],
   "source": [
    "a[a % 7 != 0]"
   ]
  },
  {
   "cell_type": "code",
   "execution_count": 24,
   "id": "0b38528f",
   "metadata": {},
   "outputs": [
    {
     "name": "stdout",
     "output_type": "stream",
     "text": [
      "[[ 0 14  0  0]\n",
      " [ 0  0 14  0]\n",
      " [ 0  0  0  0]\n",
      " [ 0  0  0  0]\n",
      " [ 0  0  0  0]\n",
      " [ 0  0  0  0]]\n"
     ]
    }
   ],
   "source": [
    "# we want these values to be zero\n",
    "a[a % 7 != 0] = 0\n",
    "print(a)"
   ]
  }
 ],
 "metadata": {
  "kernelspec": {
   "display_name": "Python 3 (ipykernel)",
   "language": "python",
   "name": "python3"
  },
  "language_info": {
   "codemirror_mode": {
    "name": "ipython",
    "version": 3
   },
   "file_extension": ".py",
   "mimetype": "text/x-python",
   "name": "python",
   "nbconvert_exporter": "python",
   "pygments_lexer": "ipython3",
   "version": "3.9.13"
  }
 },
 "nbformat": 4,
 "nbformat_minor": 5
}

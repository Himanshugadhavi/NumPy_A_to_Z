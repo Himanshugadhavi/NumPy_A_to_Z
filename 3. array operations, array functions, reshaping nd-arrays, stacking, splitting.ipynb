{
 "cells": [
  {
   "cell_type": "code",
   "execution_count": 1,
   "id": "963e42ec",
   "metadata": {},
   "outputs": [],
   "source": [
    "import numpy as np"
   ]
  },
  {
   "cell_type": "markdown",
   "id": "dfc6662d",
   "metadata": {},
   "source": [
    "#  1.Array Operations"
   ]
  },
  {
   "cell_type": "code",
   "execution_count": 2,
   "id": "3275dd4e",
   "metadata": {
    "scrolled": true
   },
   "outputs": [
    {
     "name": "stdout",
     "output_type": "stream",
     "text": [
      "[[ 0  1  2  3]\n",
      " [ 4  5  6  7]\n",
      " [ 8  9 10 11]]\n",
      "[[12 13 14 15]\n",
      " [16 17 18 19]\n",
      " [20 21 22 23]]\n"
     ]
    }
   ],
   "source": [
    "a1 = np.arange(12).reshape(3,4)\n",
    "a2 = np.arange(12,24).reshape(3,4)\n",
    "print(a1)\n",
    "print(a2)"
   ]
  },
  {
   "cell_type": "markdown",
   "id": "493cf9fd",
   "metadata": {},
   "source": [
    "## a. Scalar operations"
   ]
  },
  {
   "cell_type": "code",
   "execution_count": 3,
   "id": "406d7896",
   "metadata": {},
   "outputs": [
    {
     "name": "stdout",
     "output_type": "stream",
     "text": [
      "[[ 0  1  2  3]\n",
      " [ 4  5  6  7]\n",
      " [ 8  9 10 11]]\n",
      "[[12 13 14 15]\n",
      " [16 17 18 19]\n",
      " [20 21 22 23]]\n"
     ]
    }
   ],
   "source": [
    "print(a1)\n",
    "print(a2)"
   ]
  },
  {
   "cell_type": "markdown",
   "id": "e88d804a",
   "metadata": {},
   "source": [
    "#### Arithmetic"
   ]
  },
  {
   "cell_type": "code",
   "execution_count": 4,
   "id": "5705f459",
   "metadata": {},
   "outputs": [
    {
     "data": {
      "text/plain": [
       "array([[ 0,  2,  4,  6],\n",
       "       [ 8, 10, 12, 14],\n",
       "       [16, 18, 20, 22]])"
      ]
     },
     "execution_count": 4,
     "metadata": {},
     "output_type": "execute_result"
    }
   ],
   "source": [
    "a1*2"
   ]
  },
  {
   "cell_type": "code",
   "execution_count": 5,
   "id": "d20e0f87",
   "metadata": {
    "scrolled": true
   },
   "outputs": [
    {
     "data": {
      "text/plain": [
       "array([[10, 11, 12, 13],\n",
       "       [14, 15, 16, 17],\n",
       "       [18, 19, 20, 21]])"
      ]
     },
     "execution_count": 5,
     "metadata": {},
     "output_type": "execute_result"
    }
   ],
   "source": [
    "a1+10"
   ]
  },
  {
   "cell_type": "code",
   "execution_count": 6,
   "id": "69f99a41",
   "metadata": {},
   "outputs": [
    {
     "data": {
      "text/plain": [
       "array([[0.        , 0.33333333, 0.66666667, 1.        ],\n",
       "       [1.33333333, 1.66666667, 2.        , 2.33333333],\n",
       "       [2.66666667, 3.        , 3.33333333, 3.66666667]])"
      ]
     },
     "execution_count": 6,
     "metadata": {},
     "output_type": "execute_result"
    }
   ],
   "source": [
    "a1/3"
   ]
  },
  {
   "cell_type": "code",
   "execution_count": 7,
   "id": "ba9d1d51",
   "metadata": {},
   "outputs": [
    {
     "data": {
      "text/plain": [
       "array([[-4, -3, -2, -1],\n",
       "       [ 0,  1,  2,  3],\n",
       "       [ 4,  5,  6,  7]])"
      ]
     },
     "execution_count": 7,
     "metadata": {},
     "output_type": "execute_result"
    }
   ],
   "source": [
    "a1-4"
   ]
  },
  {
   "cell_type": "markdown",
   "id": "5ade1627",
   "metadata": {},
   "source": [
    "#### relational"
   ]
  },
  {
   "cell_type": "code",
   "execution_count": 8,
   "id": "d7dc2acc",
   "metadata": {},
   "outputs": [
    {
     "data": {
      "text/plain": [
       "array([[False, False, False, False],\n",
       "       [False,  True,  True,  True],\n",
       "       [ True,  True,  True,  True]])"
      ]
     },
     "execution_count": 8,
     "metadata": {},
     "output_type": "execute_result"
    }
   ],
   "source": [
    "a2 > 16"
   ]
  },
  {
   "cell_type": "code",
   "execution_count": 9,
   "id": "9b4f80b7",
   "metadata": {},
   "outputs": [
    {
     "data": {
      "text/plain": [
       "array([[False, False, False,  True],\n",
       "       [False, False, False, False],\n",
       "       [False, False, False, False]])"
      ]
     },
     "execution_count": 9,
     "metadata": {},
     "output_type": "execute_result"
    }
   ],
   "source": [
    "a2 == 15"
   ]
  },
  {
   "cell_type": "code",
   "execution_count": 10,
   "id": "91380f9e",
   "metadata": {
    "scrolled": true
   },
   "outputs": [
    {
     "data": {
      "text/plain": [
       "array([[ True, False,  True,  True],\n",
       "       [ True,  True,  True,  True],\n",
       "       [ True,  True,  True,  True]])"
      ]
     },
     "execution_count": 10,
     "metadata": {},
     "output_type": "execute_result"
    }
   ],
   "source": [
    "a2 !=13"
   ]
  },
  {
   "cell_type": "markdown",
   "id": "7837f613",
   "metadata": {},
   "source": [
    "## b. Vector operations"
   ]
  },
  {
   "cell_type": "code",
   "execution_count": 11,
   "id": "3c298531",
   "metadata": {},
   "outputs": [
    {
     "name": "stdout",
     "output_type": "stream",
     "text": [
      "[[ 0  1  2  3]\n",
      " [ 4  5  6  7]\n",
      " [ 8  9 10 11]]\n",
      "[[12 13 14 15]\n",
      " [16 17 18 19]\n",
      " [20 21 22 23]]\n"
     ]
    }
   ],
   "source": [
    "print(a1)\n",
    "print(a2)"
   ]
  },
  {
   "cell_type": "markdown",
   "id": "8457154a",
   "metadata": {},
   "source": [
    "#### arithmetic"
   ]
  },
  {
   "cell_type": "code",
   "execution_count": 12,
   "id": "1f618096",
   "metadata": {},
   "outputs": [
    {
     "data": {
      "text/plain": [
       "array([[12, 14, 16, 18],\n",
       "       [20, 22, 24, 26],\n",
       "       [28, 30, 32, 34]])"
      ]
     },
     "execution_count": 12,
     "metadata": {},
     "output_type": "execute_result"
    }
   ],
   "source": [
    "a1 + a2\n",
    "# addition will be done item wise"
   ]
  },
  {
   "cell_type": "code",
   "execution_count": 13,
   "id": "49174403",
   "metadata": {},
   "outputs": [
    {
     "data": {
      "text/plain": [
       "array([[  0,  13,  28,  45],\n",
       "       [ 64,  85, 108, 133],\n",
       "       [160, 189, 220, 253]])"
      ]
     },
     "execution_count": 13,
     "metadata": {},
     "output_type": "execute_result"
    }
   ],
   "source": [
    "a1 * a2\n",
    "# element wise multiplication"
   ]
  },
  {
   "cell_type": "code",
   "execution_count": 14,
   "id": "b31fc426",
   "metadata": {},
   "outputs": [
    {
     "data": {
      "text/plain": [
       "array([[0.        , 0.07692308, 0.14285714, 0.2       ],\n",
       "       [0.25      , 0.29411765, 0.33333333, 0.36842105],\n",
       "       [0.4       , 0.42857143, 0.45454545, 0.47826087]])"
      ]
     },
     "execution_count": 14,
     "metadata": {},
     "output_type": "execute_result"
    }
   ],
   "source": [
    "a1/a2"
   ]
  },
  {
   "cell_type": "code",
   "execution_count": 15,
   "id": "561c0c42",
   "metadata": {
    "scrolled": true
   },
   "outputs": [
    {
     "data": {
      "text/plain": [
       "array([[-12, -12, -12, -12],\n",
       "       [-12, -12, -12, -12],\n",
       "       [-12, -12, -12, -12]])"
      ]
     },
     "execution_count": 15,
     "metadata": {},
     "output_type": "execute_result"
    }
   ],
   "source": [
    "a1-a2"
   ]
  },
  {
   "cell_type": "markdown",
   "id": "28a3cc2e",
   "metadata": {},
   "source": [
    "#### relational"
   ]
  },
  {
   "cell_type": "code",
   "execution_count": 16,
   "id": "4d0d5d25",
   "metadata": {},
   "outputs": [
    {
     "data": {
      "text/plain": [
       "array([[False, False, False, False],\n",
       "       [False, False, False, False],\n",
       "       [False, False, False, False]])"
      ]
     },
     "execution_count": 16,
     "metadata": {},
     "output_type": "execute_result"
    }
   ],
   "source": [
    "a1 > a2"
   ]
  },
  {
   "cell_type": "code",
   "execution_count": 17,
   "id": "e8b66485",
   "metadata": {},
   "outputs": [
    {
     "data": {
      "text/plain": [
       "array([[ True,  True,  True,  True],\n",
       "       [ True,  True,  True,  True],\n",
       "       [ True,  True,  True,  True]])"
      ]
     },
     "execution_count": 17,
     "metadata": {},
     "output_type": "execute_result"
    }
   ],
   "source": [
    "a1 != a2"
   ]
  },
  {
   "cell_type": "markdown",
   "id": "77b97504",
   "metadata": {},
   "source": [
    "# 2.Array functions"
   ]
  },
  {
   "cell_type": "code",
   "execution_count": 18,
   "id": "0bab45b7",
   "metadata": {},
   "outputs": [
    {
     "name": "stdout",
     "output_type": "stream",
     "text": [
      "[[0.05280051 0.94351476 0.44512429]\n",
      " [0.30466123 0.78173447 0.39690614]\n",
      " [0.82086472 0.19299602 0.21066361]]\n",
      "[[ 5. 94. 45.]\n",
      " [30. 78. 40.]\n",
      " [82. 19. 21.]]\n"
     ]
    }
   ],
   "source": [
    "a1 = np.random.random((3,3))\n",
    "print(a1)\n",
    "# this will give random number between the range 0 and 1\n",
    "a1 = np.round(a1*100)\n",
    "print(a1)"
   ]
  },
  {
   "cell_type": "markdown",
   "id": "b4583af1",
   "metadata": {},
   "source": [
    "#### max / min / sum / prod\n",
    ">* axis=0 it is column\n",
    ">* axis=1 it is row"
   ]
  },
  {
   "cell_type": "code",
   "execution_count": 19,
   "id": "b0e94702",
   "metadata": {},
   "outputs": [
    {
     "data": {
      "text/plain": [
       "94.0"
      ]
     },
     "execution_count": 19,
     "metadata": {},
     "output_type": "execute_result"
    }
   ],
   "source": [
    "np.max(a1)"
   ]
  },
  {
   "cell_type": "code",
   "execution_count": 20,
   "id": "ec481ddd",
   "metadata": {
    "scrolled": true
   },
   "outputs": [
    {
     "data": {
      "text/plain": [
       "5.0"
      ]
     },
     "execution_count": 20,
     "metadata": {},
     "output_type": "execute_result"
    }
   ],
   "source": [
    "np.min(a1)"
   ]
  },
  {
   "cell_type": "code",
   "execution_count": 21,
   "id": "1b46eeeb",
   "metadata": {},
   "outputs": [
    {
     "data": {
      "text/plain": [
       "array([ 5., 19., 21.])"
      ]
     },
     "execution_count": 21,
     "metadata": {},
     "output_type": "execute_result"
    }
   ],
   "source": [
    "# if we want minimum value of particular axis then\n",
    "# if axis=0 then it will give column wise minimum value\n",
    "np.min(a1, axis=0)"
   ]
  },
  {
   "cell_type": "code",
   "execution_count": 22,
   "id": "aa931c23",
   "metadata": {},
   "outputs": [
    {
     "data": {
      "text/plain": [
       "array([ 5., 30., 19.])"
      ]
     },
     "execution_count": 22,
     "metadata": {},
     "output_type": "execute_result"
    }
   ],
   "source": [
    "np.min(a1, axis=1)\n",
    "# here axis = 1 so it wili work on rows"
   ]
  },
  {
   "cell_type": "code",
   "execution_count": 23,
   "id": "a11f678f",
   "metadata": {},
   "outputs": [
    {
     "data": {
      "text/plain": [
       "414.0"
      ]
     },
     "execution_count": 23,
     "metadata": {},
     "output_type": "execute_result"
    }
   ],
   "source": [
    "np.sum(a1)"
   ]
  },
  {
   "cell_type": "code",
   "execution_count": 24,
   "id": "54f08824",
   "metadata": {},
   "outputs": [
    {
     "data": {
      "text/plain": [
       "array([144., 148., 122.])"
      ]
     },
     "execution_count": 24,
     "metadata": {},
     "output_type": "execute_result"
    }
   ],
   "source": [
    "np.sum(a1, axis=1)\n",
    "# row wise sum"
   ]
  },
  {
   "cell_type": "code",
   "execution_count": 25,
   "id": "26f02907",
   "metadata": {},
   "outputs": [
    {
     "data": {
      "text/plain": [
       "64769861520000.0"
      ]
     },
     "execution_count": 25,
     "metadata": {},
     "output_type": "execute_result"
    }
   ],
   "source": [
    "np.prod(a1)\n",
    "# product"
   ]
  },
  {
   "cell_type": "code",
   "execution_count": 26,
   "id": "8caf01fd",
   "metadata": {},
   "outputs": [
    {
     "data": {
      "text/plain": [
       "array([ 12300., 139308.,  37800.])"
      ]
     },
     "execution_count": 26,
     "metadata": {},
     "output_type": "execute_result"
    }
   ],
   "source": [
    "np.prod(a1, axis=0)\n",
    "# product of column values"
   ]
  },
  {
   "cell_type": "code",
   "execution_count": 27,
   "id": "ba1006c9",
   "metadata": {},
   "outputs": [
    {
     "data": {
      "text/plain": [
       "array([21150., 93600., 32718.])"
      ]
     },
     "execution_count": 27,
     "metadata": {},
     "output_type": "execute_result"
    }
   ],
   "source": [
    "np.prod(a1, axis=1)\n",
    "# product of row values"
   ]
  },
  {
   "cell_type": "markdown",
   "id": "af62fb83",
   "metadata": {},
   "source": [
    "#### mean / median / std / var"
   ]
  },
  {
   "cell_type": "code",
   "execution_count": 28,
   "id": "4ba188d8",
   "metadata": {},
   "outputs": [
    {
     "data": {
      "text/plain": [
       "46.0"
      ]
     },
     "execution_count": 28,
     "metadata": {},
     "output_type": "execute_result"
    }
   ],
   "source": [
    "np.mean(a1)"
   ]
  },
  {
   "cell_type": "code",
   "execution_count": 29,
   "id": "0111cca5",
   "metadata": {},
   "outputs": [
    {
     "data": {
      "text/plain": [
       "array([39.        , 63.66666667, 35.33333333])"
      ]
     },
     "execution_count": 29,
     "metadata": {},
     "output_type": "execute_result"
    }
   ],
   "source": [
    "np.mean(a1, axis=0)\n",
    "# mean of each column"
   ]
  },
  {
   "cell_type": "code",
   "execution_count": 30,
   "id": "062a186f",
   "metadata": {},
   "outputs": [
    {
     "data": {
      "text/plain": [
       "40.0"
      ]
     },
     "execution_count": 30,
     "metadata": {},
     "output_type": "execute_result"
    }
   ],
   "source": [
    "np.median(a1)"
   ]
  },
  {
   "cell_type": "code",
   "execution_count": 31,
   "id": "b00523c3",
   "metadata": {},
   "outputs": [
    {
     "data": {
      "text/plain": [
       "29.724662412810606"
      ]
     },
     "execution_count": 31,
     "metadata": {},
     "output_type": "execute_result"
    }
   ],
   "source": [
    "np.std(a1)"
   ]
  },
  {
   "cell_type": "code",
   "execution_count": 32,
   "id": "5bb87521",
   "metadata": {},
   "outputs": [
    {
     "data": {
      "text/plain": [
       "883.5555555555555"
      ]
     },
     "execution_count": 32,
     "metadata": {},
     "output_type": "execute_result"
    }
   ],
   "source": [
    "np.var(a1)"
   ]
  },
  {
   "cell_type": "markdown",
   "id": "29ecd671",
   "metadata": {},
   "source": [
    "#### trignometry"
   ]
  },
  {
   "cell_type": "code",
   "execution_count": 33,
   "id": "7de792b7",
   "metadata": {
    "scrolled": true
   },
   "outputs": [
    {
     "data": {
      "text/plain": [
       "array([[-0.95892427, -0.24525199,  0.85090352],\n",
       "       [-0.98803162,  0.51397846,  0.74511316],\n",
       "       [ 0.31322878,  0.14987721,  0.83665564]])"
      ]
     },
     "execution_count": 33,
     "metadata": {},
     "output_type": "execute_result"
    }
   ],
   "source": [
    "np.sin(a1)"
   ]
  },
  {
   "cell_type": "markdown",
   "id": "afd60a4c",
   "metadata": {},
   "source": [
    "#### dot product"
   ]
  },
  {
   "cell_type": "code",
   "execution_count": 34,
   "id": "3e0cf34d",
   "metadata": {},
   "outputs": [
    {
     "name": "stdout",
     "output_type": "stream",
     "text": [
      "[[ 0  1  2  3]\n",
      " [ 4  5  6  7]\n",
      " [ 8  9 10 11]]\n",
      "[[12 13 14]\n",
      " [15 16 17]\n",
      " [18 19 20]\n",
      " [21 22 23]]\n"
     ]
    }
   ],
   "source": [
    "a2 = np.arange(12).reshape(3,4)\n",
    "a3 = np.arange(12,24).reshape(4,3)\n",
    "print(a2)\n",
    "print(a3)"
   ]
  },
  {
   "cell_type": "code",
   "execution_count": 35,
   "id": "2b716b5a",
   "metadata": {},
   "outputs": [
    {
     "data": {
      "text/plain": [
       "array([[114, 120, 126],\n",
       "       [378, 400, 422],\n",
       "       [642, 680, 718]])"
      ]
     },
     "execution_count": 35,
     "metadata": {},
     "output_type": "execute_result"
    }
   ],
   "source": [
    "np.dot(a2,a3)"
   ]
  },
  {
   "cell_type": "code",
   "execution_count": 36,
   "id": "93aca878",
   "metadata": {},
   "outputs": [
    {
     "data": {
      "text/plain": [
       "array([[114, 120, 126],\n",
       "       [378, 400, 422],\n",
       "       [642, 680, 718]])"
      ]
     },
     "execution_count": 36,
     "metadata": {},
     "output_type": "execute_result"
    }
   ],
   "source": [
    "# other way for dot multiplication\n",
    "a2.dot(a3)"
   ]
  },
  {
   "cell_type": "markdown",
   "id": "7f166910",
   "metadata": {},
   "source": [
    "#### log and exponent"
   ]
  },
  {
   "cell_type": "code",
   "execution_count": 37,
   "id": "34617dde",
   "metadata": {},
   "outputs": [
    {
     "data": {
      "text/plain": [
       "array([[ 5., 94., 45.],\n",
       "       [30., 78., 40.],\n",
       "       [82., 19., 21.]])"
      ]
     },
     "execution_count": 37,
     "metadata": {},
     "output_type": "execute_result"
    }
   ],
   "source": [
    "a1"
   ]
  },
  {
   "cell_type": "code",
   "execution_count": 38,
   "id": "dba4ad4e",
   "metadata": {},
   "outputs": [
    {
     "data": {
      "text/plain": [
       "array([[1.60943791, 4.54329478, 3.80666249],\n",
       "       [3.40119738, 4.35670883, 3.68887945],\n",
       "       [4.40671925, 2.94443898, 3.04452244]])"
      ]
     },
     "execution_count": 38,
     "metadata": {},
     "output_type": "execute_result"
    }
   ],
   "source": [
    "np.log(a1)"
   ]
  },
  {
   "cell_type": "code",
   "execution_count": 39,
   "id": "bfd46a86",
   "metadata": {},
   "outputs": [
    {
     "data": {
      "text/plain": [
       "array([[1.48413159e+02, 6.66317622e+40, 3.49342711e+19],\n",
       "       [1.06864746e+13, 7.49841700e+33, 2.35385267e+17],\n",
       "       [4.09399696e+35, 1.78482301e+08, 1.31881573e+09]])"
      ]
     },
     "execution_count": 39,
     "metadata": {},
     "output_type": "execute_result"
    }
   ],
   "source": [
    "np.exp(a1)\n",
    "# exponent"
   ]
  },
  {
   "cell_type": "markdown",
   "id": "1c716fe7",
   "metadata": {},
   "source": [
    "#### round / floor / ceil"
   ]
  },
  {
   "cell_type": "code",
   "execution_count": 40,
   "id": "90002999",
   "metadata": {},
   "outputs": [
    {
     "name": "stdout",
     "output_type": "stream",
     "text": [
      "[[0.03715298 0.11202358 0.61570176 0.49187984]\n",
      " [0.17497281 0.33208759 0.76517829 0.73157945]\n",
      " [0.96724768 0.4909146  0.03374055 0.48535071]]\n",
      "[[ 3.7152976  11.20235786 61.57017552 49.18798366]\n",
      " [17.49728092 33.20875946 76.51782927 73.15794481]\n",
      " [96.72476801 49.09146021  3.37405533 48.53507053]]\n"
     ]
    },
    {
     "data": {
      "text/plain": [
       "array([[ 4., 11., 62., 49.],\n",
       "       [17., 33., 77., 73.],\n",
       "       [97., 49.,  3., 49.]])"
      ]
     },
     "execution_count": 40,
     "metadata": {},
     "output_type": "execute_result"
    }
   ],
   "source": [
    "a = np.random.random((3,4))\n",
    "print(a)\n",
    "# we will get random values between 0 to 1\n",
    "print(a*100)\n",
    "# we are multiplying it with 100\n",
    "np.round(a*100)\n",
    "# now we will round off the values"
   ]
  },
  {
   "cell_type": "code",
   "execution_count": 41,
   "id": "f962b646",
   "metadata": {},
   "outputs": [
    {
     "name": "stdout",
     "output_type": "stream",
     "text": [
      "[[0.88866875 0.60975317 0.02474568 0.86747306]\n",
      " [0.87344352 0.88191743 0.03250947 0.19022624]\n",
      " [0.19535778 0.32757358 0.26311876 0.97845519]]\n",
      "[[88.86687514 60.97531655  2.47456774 86.74730553]\n",
      " [87.3443518  88.19174275  3.25094695 19.02262448]\n",
      " [19.5357784  32.75735805 26.31187584 97.84551919]]\n"
     ]
    },
    {
     "data": {
      "text/plain": [
       "array([[88., 60.,  2., 86.],\n",
       "       [87., 88.,  3., 19.],\n",
       "       [19., 32., 26., 97.]])"
      ]
     },
     "execution_count": 41,
     "metadata": {},
     "output_type": "execute_result"
    }
   ],
   "source": [
    "a = np.random.random((3,4))\n",
    "print(a)\n",
    "# we will get random values between 0 to 1\n",
    "print(a*100)\n",
    "# we are multiplying it with 100\n",
    "np.floor(a*100)\n",
    "# now we will floor the values"
   ]
  },
  {
   "cell_type": "code",
   "execution_count": 42,
   "id": "20351556",
   "metadata": {},
   "outputs": [
    {
     "name": "stdout",
     "output_type": "stream",
     "text": [
      "[[0.540061   0.9357802  0.65119419 0.91937551]\n",
      " [0.06579472 0.81104232 0.23913648 0.94445207]\n",
      " [0.70762951 0.56467164 0.02456476 0.33561083]]\n",
      "[[54.00609998 93.57801978 65.11941916 91.93755141]\n",
      " [ 6.57947167 81.10423191 23.9136477  94.44520668]\n",
      " [70.76295054 56.46716382  2.45647648 33.56108261]]\n"
     ]
    },
    {
     "data": {
      "text/plain": [
       "array([[55., 94., 66., 92.],\n",
       "       [ 7., 82., 24., 95.],\n",
       "       [71., 57.,  3., 34.]])"
      ]
     },
     "execution_count": 42,
     "metadata": {},
     "output_type": "execute_result"
    }
   ],
   "source": [
    "a = np.random.random((3,4))\n",
    "print(a)\n",
    "# we will get random values between 0 to 1\n",
    "print(a*100)\n",
    "# we are multiplying it with 100\n",
    "np.ceil(a*100)\n",
    "# now we will ceil the values"
   ]
  },
  {
   "cell_type": "markdown",
   "id": "e35c524f",
   "metadata": {},
   "source": [
    ">* **Note :** after typing np. press tab key to get all available function within that np. syntax"
   ]
  },
  {
   "cell_type": "markdown",
   "id": "a8b5f9ae",
   "metadata": {},
   "source": [
    "# 3.Reshaping numpy arrays\n",
    ">1. Reshape\n",
    ">2. Transpose\n",
    ">3. Ravel"
   ]
  },
  {
   "cell_type": "markdown",
   "id": "89475581",
   "metadata": {},
   "source": [
    "### 1. Reshape\n",
    "> np.reshape(a, newshape, order='C)\n",
    "* Gives a new shape to an array without changing its data."
   ]
  },
  {
   "cell_type": "code",
   "execution_count": 43,
   "id": "246b4982",
   "metadata": {},
   "outputs": [
    {
     "data": {
      "text/plain": [
       "array([ 0,  1,  2,  3,  4,  5,  6,  7,  8,  9, 10, 11, 12, 13, 14, 15, 16,\n",
       "       17, 18, 19, 20, 21, 22, 23])"
      ]
     },
     "execution_count": 43,
     "metadata": {},
     "output_type": "execute_result"
    }
   ],
   "source": [
    "a1=np.arange(24)\n",
    "a1"
   ]
  },
  {
   "cell_type": "code",
   "execution_count": 44,
   "id": "b8ae4d51",
   "metadata": {},
   "outputs": [
    {
     "data": {
      "text/plain": [
       "array([[ 0,  1,  2],\n",
       "       [ 3,  4,  5],\n",
       "       [ 6,  7,  8],\n",
       "       [ 9, 10, 11],\n",
       "       [12, 13, 14],\n",
       "       [15, 16, 17],\n",
       "       [18, 19, 20],\n",
       "       [21, 22, 23]])"
      ]
     },
     "execution_count": 44,
     "metadata": {},
     "output_type": "execute_result"
    }
   ],
   "source": [
    "np.reshape(a1,(8,3))"
   ]
  },
  {
   "cell_type": "code",
   "execution_count": 45,
   "id": "3d3fc992",
   "metadata": {},
   "outputs": [
    {
     "data": {
      "text/plain": [
       "array([[ 0,  1],\n",
       "       [ 2,  3],\n",
       "       [ 4,  5],\n",
       "       [ 6,  7],\n",
       "       [ 8,  9],\n",
       "       [10, 11],\n",
       "       [12, 13],\n",
       "       [14, 15],\n",
       "       [16, 17],\n",
       "       [18, 19],\n",
       "       [20, 21],\n",
       "       [22, 23]])"
      ]
     },
     "execution_count": 45,
     "metadata": {},
     "output_type": "execute_result"
    }
   ],
   "source": [
    "np.reshape(a1,(12,2))"
   ]
  },
  {
   "cell_type": "code",
   "execution_count": 46,
   "id": "5e5b4e8c",
   "metadata": {},
   "outputs": [
    {
     "data": {
      "text/plain": [
       "array([[ 0,  1,  2,  3],\n",
       "       [ 4,  5,  6,  7],\n",
       "       [ 8,  9, 10, 11],\n",
       "       [12, 13, 14, 15],\n",
       "       [16, 17, 18, 19],\n",
       "       [20, 21, 22, 23]])"
      ]
     },
     "execution_count": 46,
     "metadata": {},
     "output_type": "execute_result"
    }
   ],
   "source": [
    "np.reshape(a1,(6,4))"
   ]
  },
  {
   "cell_type": "code",
   "execution_count": 47,
   "id": "cc146f8f",
   "metadata": {
    "scrolled": true
   },
   "outputs": [
    {
     "data": {
      "text/plain": [
       "array([1, 2, 3, 4, 5, 6])"
      ]
     },
     "execution_count": 47,
     "metadata": {},
     "output_type": "execute_result"
    }
   ],
   "source": [
    "a = np.array([[1,2,3], [4,5,6]])\n",
    "np.reshape(a, 6)"
   ]
  },
  {
   "cell_type": "code",
   "execution_count": 48,
   "id": "11a2def8",
   "metadata": {},
   "outputs": [
    {
     "data": {
      "text/plain": [
       "array([[1, 2],\n",
       "       [3, 4],\n",
       "       [5, 6]])"
      ]
     },
     "execution_count": 48,
     "metadata": {},
     "output_type": "execute_result"
    }
   ],
   "source": [
    "np.reshape(a,(3,2))"
   ]
  },
  {
   "cell_type": "code",
   "execution_count": 49,
   "id": "83a3a6f0",
   "metadata": {
    "scrolled": true
   },
   "outputs": [
    {
     "data": {
      "text/plain": [
       "array([[[[ 0,  1],\n",
       "         [ 2,  3]],\n",
       "\n",
       "        [[ 4,  5],\n",
       "         [ 6,  7]]],\n",
       "\n",
       "\n",
       "       [[[ 8,  9],\n",
       "         [10, 11]],\n",
       "\n",
       "        [[12, 13],\n",
       "         [14, 15]]]])"
      ]
     },
     "execution_count": 49,
     "metadata": {},
     "output_type": "execute_result"
    }
   ],
   "source": [
    "b = np.arange(16).reshape(2,2,2,2)\n",
    "b\n",
    "# 4D array will be created"
   ]
  },
  {
   "cell_type": "code",
   "execution_count": 50,
   "id": "8e32adb7",
   "metadata": {},
   "outputs": [
    {
     "data": {
      "text/plain": [
       "array([[[ 0,  1,  2,  3],\n",
       "        [ 4,  5,  6,  7]],\n",
       "\n",
       "       [[ 8,  9, 10, 11],\n",
       "        [12, 13, 14, 15]]])"
      ]
     },
     "execution_count": 50,
     "metadata": {},
     "output_type": "execute_result"
    }
   ],
   "source": [
    "np.reshape(b,(2,2,4))\n",
    "# 3D array"
   ]
  },
  {
   "cell_type": "markdown",
   "id": "6626c44a",
   "metadata": {},
   "source": [
    "### 2. Transpose\n",
    "> np.transpose(a, axes=None)\n",
    "\n",
    "Returns an array with axes transposed.\n",
    ">* ndarray.transpose is Equivalent method."
   ]
  },
  {
   "cell_type": "code",
   "execution_count": 51,
   "id": "5e28dcf7",
   "metadata": {},
   "outputs": [
    {
     "name": "stdout",
     "output_type": "stream",
     "text": [
      "[1 2 3 4]\n"
     ]
    },
    {
     "data": {
      "text/plain": [
       "array([1, 2, 3, 4])"
      ]
     },
     "execution_count": 51,
     "metadata": {},
     "output_type": "execute_result"
    }
   ],
   "source": [
    "'''For a 1-D array, it returns an unchanged view of the original array, \n",
    "as a transposed vector is simply the same vector\n",
    "'''\n",
    "a = np.array([1, 2, 3, 4])\n",
    "print(a)\n",
    "np.transpose(a)"
   ]
  },
  {
   "cell_type": "code",
   "execution_count": 52,
   "id": "62e05975",
   "metadata": {},
   "outputs": [
    {
     "name": "stdout",
     "output_type": "stream",
     "text": [
      "[[0 1 2 3]\n",
      " [4 5 6 7]]\n"
     ]
    }
   ],
   "source": [
    "b = np.arange(8).reshape(2,4)\n",
    "print(b)"
   ]
  },
  {
   "cell_type": "code",
   "execution_count": 53,
   "id": "86f189b7",
   "metadata": {
    "scrolled": true
   },
   "outputs": [
    {
     "data": {
      "text/plain": [
       "array([[0, 4],\n",
       "       [1, 5],\n",
       "       [2, 6],\n",
       "       [3, 7]])"
      ]
     },
     "execution_count": 53,
     "metadata": {},
     "output_type": "execute_result"
    }
   ],
   "source": [
    "b.T"
   ]
  },
  {
   "cell_type": "code",
   "execution_count": 54,
   "id": "e5896ff8",
   "metadata": {},
   "outputs": [
    {
     "data": {
      "text/plain": [
       "array([[0, 4],\n",
       "       [1, 5],\n",
       "       [2, 6],\n",
       "       [3, 7]])"
      ]
     },
     "execution_count": 54,
     "metadata": {},
     "output_type": "execute_result"
    }
   ],
   "source": [
    "b.transpose()"
   ]
  },
  {
   "cell_type": "code",
   "execution_count": 55,
   "id": "6f9af193",
   "metadata": {},
   "outputs": [
    {
     "data": {
      "text/plain": [
       "array([[0, 4],\n",
       "       [1, 5],\n",
       "       [2, 6],\n",
       "       [3, 7]])"
      ]
     },
     "execution_count": 55,
     "metadata": {},
     "output_type": "execute_result"
    }
   ],
   "source": [
    "np.transpose(b)"
   ]
  },
  {
   "cell_type": "markdown",
   "id": "ecf19ab7",
   "metadata": {},
   "source": [
    "### 3. Ravel\n",
    ">* The numpy.ravel() functions returns contiguous flattened array(1D array with all the input-array elements and with the same type as it). A copy is made only if needed. \n",
    ">* it will bring higehr dimension array to 1D without losing any information\n",
    "* **Syntax :**     \n",
    ">* np.ravel(array, order = 'C')"
   ]
  },
  {
   "cell_type": "code",
   "execution_count": 56,
   "id": "f448ba31",
   "metadata": {},
   "outputs": [
    {
     "data": {
      "text/plain": [
       "array([[[[ 0,  1],\n",
       "         [ 2,  3]],\n",
       "\n",
       "        [[ 4,  5],\n",
       "         [ 6,  7]]],\n",
       "\n",
       "\n",
       "       [[[ 8,  9],\n",
       "         [10, 11]],\n",
       "\n",
       "        [[12, 13],\n",
       "         [14, 15]]]])"
      ]
     },
     "execution_count": 56,
     "metadata": {},
     "output_type": "execute_result"
    }
   ],
   "source": [
    "b = np.arange(16).reshape(2,2,2,2)\n",
    "b\n",
    "# 4D array will be created"
   ]
  },
  {
   "cell_type": "code",
   "execution_count": 57,
   "id": "1843b298",
   "metadata": {},
   "outputs": [
    {
     "name": "stdout",
     "output_type": "stream",
     "text": [
      "[ 0  1  2  3  4  5  6  7  8  9 10 11 12 13 14 15]\n",
      "1\n"
     ]
    }
   ],
   "source": [
    "print(np.ravel(b))\n",
    "# it will return 1D array\n",
    "print(np.ravel(b).ndim)"
   ]
  },
  {
   "cell_type": "code",
   "execution_count": 58,
   "id": "33f2e65a",
   "metadata": {},
   "outputs": [
    {
     "data": {
      "text/plain": [
       "array([ 0,  1,  2,  3,  4,  5,  6,  7,  8,  9, 10, 11, 12, 13, 14, 15])"
      ]
     },
     "execution_count": 58,
     "metadata": {},
     "output_type": "execute_result"
    }
   ],
   "source": [
    "b.ravel()\n",
    "# other way of writing ravel function"
   ]
  },
  {
   "cell_type": "markdown",
   "id": "b3173574",
   "metadata": {},
   "source": [
    "# 4.Stacking\n",
    ">1. horizontal stacking\n",
    ">2. vertical stacking\n",
    "\n",
    "* stack() is used for joining multiple NumPy arrays. \n",
    "* Unlike, concatenate(), it joins arrays along a new axis.\n",
    "* If axis is not explicitly passed, it is taken as 0.\n",
    "* It returns a NumPy array. \n",
    "* to join 2 arrays, they must have the same shape and dimensions."
   ]
  },
  {
   "cell_type": "markdown",
   "id": "b40db7ed",
   "metadata": {},
   "source": [
    "* stack() creates a new array which has 1 more dimension than the input arrays. If we stack two 1-D arrays, the resultant array will have 2 dimensions."
   ]
  },
  {
   "cell_type": "code",
   "execution_count": 59,
   "id": "ad696447",
   "metadata": {},
   "outputs": [
    {
     "name": "stdout",
     "output_type": "stream",
     "text": [
      "[[ 0  1  2  3]\n",
      " [ 4  5  6  7]\n",
      " [ 8  9 10 11]]\n",
      "[[12 13 14 15]\n",
      " [16 17 18 19]\n",
      " [20 21 22 23]]\n"
     ]
    }
   ],
   "source": [
    "a4 = np.arange(12).reshape(3,4)\n",
    "a5 = np.arange(12,24).reshape(3,4)\n",
    "\n",
    "print(a4)\n",
    "print(a5)"
   ]
  },
  {
   "cell_type": "markdown",
   "id": "fc694c5b",
   "metadata": {},
   "source": [
    "#### 1. horizontal stacking"
   ]
  },
  {
   "cell_type": "code",
   "execution_count": 60,
   "id": "4de39aa9",
   "metadata": {},
   "outputs": [
    {
     "data": {
      "text/plain": [
       "array([[ 0,  1,  2,  3, 12, 13, 14, 15],\n",
       "       [ 4,  5,  6,  7, 16, 17, 18, 19],\n",
       "       [ 8,  9, 10, 11, 20, 21, 22, 23]])"
      ]
     },
     "execution_count": 60,
     "metadata": {},
     "output_type": "execute_result"
    }
   ],
   "source": [
    "np.hstack((a4,a5))"
   ]
  },
  {
   "cell_type": "code",
   "execution_count": 61,
   "id": "28d47888",
   "metadata": {},
   "outputs": [
    {
     "data": {
      "text/plain": [
       "array([[ 0,  1,  2,  3, 12, 13, 14, 15,  0,  1,  2,  3],\n",
       "       [ 4,  5,  6,  7, 16, 17, 18, 19,  4,  5,  6,  7],\n",
       "       [ 8,  9, 10, 11, 20, 21, 22, 23,  8,  9, 10, 11]])"
      ]
     },
     "execution_count": 61,
     "metadata": {},
     "output_type": "execute_result"
    }
   ],
   "source": [
    "np.hstack((a4,a5,a4))\n",
    "# we can join as many array as we want"
   ]
  },
  {
   "cell_type": "markdown",
   "id": "88e1907c",
   "metadata": {},
   "source": [
    "#### 2.vertical stacking "
   ]
  },
  {
   "cell_type": "code",
   "execution_count": 62,
   "id": "ce40dfb6",
   "metadata": {},
   "outputs": [
    {
     "data": {
      "text/plain": [
       "array([[ 0,  1,  2,  3],\n",
       "       [ 4,  5,  6,  7],\n",
       "       [ 8,  9, 10, 11],\n",
       "       [12, 13, 14, 15],\n",
       "       [16, 17, 18, 19],\n",
       "       [20, 21, 22, 23]])"
      ]
     },
     "execution_count": 62,
     "metadata": {},
     "output_type": "execute_result"
    }
   ],
   "source": [
    "np.vstack((a4,a5))"
   ]
  },
  {
   "cell_type": "code",
   "execution_count": 63,
   "id": "2bf79770",
   "metadata": {},
   "outputs": [
    {
     "data": {
      "text/plain": [
       "array([[ 0,  1,  2,  3],\n",
       "       [ 4,  5,  6,  7],\n",
       "       [ 8,  9, 10, 11],\n",
       "       [12, 13, 14, 15],\n",
       "       [16, 17, 18, 19],\n",
       "       [20, 21, 22, 23],\n",
       "       [12, 13, 14, 15],\n",
       "       [16, 17, 18, 19],\n",
       "       [20, 21, 22, 23]])"
      ]
     },
     "execution_count": 63,
     "metadata": {},
     "output_type": "execute_result"
    }
   ],
   "source": [
    "np.vstack((a4,a5,a5))"
   ]
  },
  {
   "cell_type": "code",
   "execution_count": 64,
   "id": "d5dd1873",
   "metadata": {},
   "outputs": [
    {
     "name": "stdout",
     "output_type": "stream",
     "text": [
      "[1 2 3]\n",
      "[4 5 6]\n",
      "1\n",
      "1\n",
      "[[1 2 3]\n",
      " [4 5 6]]\n"
     ]
    },
    {
     "data": {
      "text/plain": [
       "2"
      ]
     },
     "execution_count": 64,
     "metadata": {},
     "output_type": "execute_result"
    }
   ],
   "source": [
    "# input array\n",
    "a = np.array([1, 2, 3])\n",
    "b = np.array([4, 5, 6])\n",
    "\n",
    "print(a)\n",
    "print(b)\n",
    "\n",
    "print(a.ndim)\n",
    "print(b.ndim)\n",
    "\n",
    "# Stacking two 1-d arrays\n",
    "c = np.stack((a, b),axis=0)\n",
    "print(c)\n",
    "c.ndim"
   ]
  },
  {
   "cell_type": "code",
   "execution_count": 65,
   "id": "3b8aeef9",
   "metadata": {},
   "outputs": [
    {
     "data": {
      "text/plain": [
       "array([[1, 4],\n",
       "       [2, 5],\n",
       "       [3, 6]])"
      ]
     },
     "execution_count": 65,
     "metadata": {},
     "output_type": "execute_result"
    }
   ],
   "source": [
    "# stack two 1-d arrays column - wise\n",
    "np.stack((a,b),axis=1)"
   ]
  },
  {
   "cell_type": "code",
   "execution_count": 66,
   "id": "2d790e82",
   "metadata": {},
   "outputs": [
    {
     "name": "stdout",
     "output_type": "stream",
     "text": [
      "[[1 2 3]\n",
      " [4 5 6]]\n",
      "2\n",
      "[[ 7  8  9]\n",
      " [10 11 12]]\n",
      "2\n"
     ]
    }
   ],
   "source": [
    "# input arrays\n",
    "x=np.array([[1,2,3],\n",
    "            [4,5,6]])\n",
    " \n",
    "y=np.array([[7,8,9],\n",
    "            [10,11,12]])\n",
    "print(x)\n",
    "print(x.ndim)\n",
    "print(y)\n",
    "print(y.ndim)"
   ]
  },
  {
   "cell_type": "code",
   "execution_count": 67,
   "id": "b8ff8113",
   "metadata": {},
   "outputs": [
    {
     "name": "stdout",
     "output_type": "stream",
     "text": [
      "[[[ 1  2  3]\n",
      "  [ 4  5  6]]\n",
      "\n",
      " [[ 7  8  9]\n",
      "  [10 11 12]]]\n",
      "3\n"
     ]
    }
   ],
   "source": [
    "# stacking with axis=0\n",
    "\n",
    "a=np.stack((x,y),axis=0)\n",
    "print(a)\n",
    "print(a.ndim)"
   ]
  },
  {
   "cell_type": "code",
   "execution_count": 68,
   "id": "c1fa3f28",
   "metadata": {},
   "outputs": [
    {
     "name": "stdout",
     "output_type": "stream",
     "text": [
      "[[[ 1  2  3]\n",
      "  [ 7  8  9]]\n",
      "\n",
      " [[ 4  5  6]\n",
      "  [10 11 12]]]\n",
      "3\n"
     ]
    }
   ],
   "source": [
    "# stacking with axis=1\n",
    "\n",
    "b=np.stack((x,y),axis=1)\n",
    "print(b)\n",
    "print(b.ndim)"
   ]
  },
  {
   "cell_type": "code",
   "execution_count": 69,
   "id": "e12b494c",
   "metadata": {},
   "outputs": [
    {
     "name": "stdout",
     "output_type": "stream",
     "text": [
      "[[[1 4]\n",
      "  [2 5]\n",
      "  [3 6]]]\n"
     ]
    }
   ],
   "source": [
    "'''NumPy provides a helper function: dstack() \n",
    "to stack along height, which is the same as depth.'''\n",
    "\n",
    "arr1 = np.array([1, 2, 3])\n",
    "arr2 = np.array([4, 5, 6])\n",
    "\n",
    "arr = np.dstack((arr1, arr2))\n",
    "print(arr)"
   ]
  },
  {
   "cell_type": "markdown",
   "id": "7b5a646c",
   "metadata": {},
   "source": [
    "# 5. Splitting \n",
    ">* Splitting is reverse operation of Joining.\n",
    ">* Joining merges multiple arrays into one and Splitting breaks one array into multiple."
   ]
  },
  {
   "cell_type": "markdown",
   "id": "49469846",
   "metadata": {},
   "source": [
    "#### 1. hsplit()"
   ]
  },
  {
   "cell_type": "code",
   "execution_count": 70,
   "id": "6e037533",
   "metadata": {},
   "outputs": [
    {
     "name": "stdout",
     "output_type": "stream",
     "text": [
      "[[ 0  1  2  3]\n",
      " [ 4  5  6  7]\n",
      " [ 8  9 10 11]]\n"
     ]
    }
   ],
   "source": [
    "a4 = np.arange(12).reshape(3,4)\n",
    "print(a4)\n"
   ]
  },
  {
   "cell_type": "code",
   "execution_count": 71,
   "id": "a166b308",
   "metadata": {
    "scrolled": true
   },
   "outputs": [
    {
     "data": {
      "text/plain": [
       "[array([[0, 1],\n",
       "        [4, 5],\n",
       "        [8, 9]]),\n",
       " array([[ 2,  3],\n",
       "        [ 6,  7],\n",
       "        [10, 11]])]"
      ]
     },
     "execution_count": 71,
     "metadata": {},
     "output_type": "execute_result"
    }
   ],
   "source": [
    "np.hsplit(a4,2)"
   ]
  },
  {
   "cell_type": "markdown",
   "id": "2d785b63",
   "metadata": {},
   "source": [
    "#### 2.vsplit()"
   ]
  },
  {
   "cell_type": "code",
   "execution_count": 72,
   "id": "4d331bb8",
   "metadata": {
    "scrolled": true
   },
   "outputs": [
    {
     "name": "stdout",
     "output_type": "stream",
     "text": [
      "[[12 13 14 15]\n",
      " [16 17 18 19]\n",
      " [20 21 22 23]]\n"
     ]
    }
   ],
   "source": [
    "a5 = np.arange(12,24).reshape(3,4)\n",
    "print(a5)"
   ]
  },
  {
   "cell_type": "code",
   "execution_count": 73,
   "id": "f00a911b",
   "metadata": {},
   "outputs": [
    {
     "data": {
      "text/plain": [
       "[array([[12, 13, 14, 15]]),\n",
       " array([[16, 17, 18, 19]]),\n",
       " array([[20, 21, 22, 23]])]"
      ]
     },
     "execution_count": 73,
     "metadata": {},
     "output_type": "execute_result"
    }
   ],
   "source": [
    "np.vsplit(a5,3)"
   ]
  },
  {
   "cell_type": "code",
   "execution_count": 74,
   "id": "f4eabdab",
   "metadata": {},
   "outputs": [
    {
     "name": "stdout",
     "output_type": "stream",
     "text": [
      "[array([[ 1],\n",
      "       [ 4],\n",
      "       [ 7],\n",
      "       [10],\n",
      "       [13],\n",
      "       [16]]), array([[ 2],\n",
      "       [ 5],\n",
      "       [ 8],\n",
      "       [11],\n",
      "       [14],\n",
      "       [17]]), array([[ 3],\n",
      "       [ 6],\n",
      "       [ 9],\n",
      "       [12],\n",
      "       [15],\n",
      "       [18]])]\n"
     ]
    }
   ],
   "source": [
    "'''Use the hsplit() method to split the 2-D array \n",
    "into three 2-D arrays along rows.'''\n",
    "\n",
    "arr = np.array([[1, 2, 3], [4, 5, 6], [7, 8, 9], \n",
    "                [10, 11, 12], [13, 14, 15], [16, 17, 18]])\n",
    "\n",
    "newarr = np.hsplit(arr, 3)\n",
    "print(newarr)"
   ]
  },
  {
   "cell_type": "code",
   "execution_count": 75,
   "id": "ff2a7d2c",
   "metadata": {},
   "outputs": [
    {
     "name": "stdout",
     "output_type": "stream",
     "text": [
      "[[ 1]\n",
      " [ 4]\n",
      " [ 7]\n",
      " [10]\n",
      " [13]\n",
      " [16]]\n",
      "[[ 2]\n",
      " [ 5]\n",
      " [ 8]\n",
      " [11]\n",
      " [14]\n",
      " [17]]\n",
      "[[ 3]\n",
      " [ 6]\n",
      " [ 9]\n",
      " [12]\n",
      " [15]\n",
      " [18]]\n"
     ]
    }
   ],
   "source": [
    "print(newarr[0])\n",
    "print(newarr[1])\n",
    "print(newarr[2])"
   ]
  },
  {
   "cell_type": "code",
   "execution_count": 76,
   "id": "991f964f",
   "metadata": {},
   "outputs": [
    {
     "name": "stdout",
     "output_type": "stream",
     "text": [
      "[array([[1, 2, 3],\n",
      "       [4, 5, 6]]), array([[ 7,  8,  9],\n",
      "       [10, 11, 12]]), array([[13, 14, 15],\n",
      "       [16, 17, 18]])]\n"
     ]
    }
   ],
   "source": [
    "'''Use the vsplit() method to split the 2-D array \n",
    "into three 2-D arrays along columns.'''\n",
    "\n",
    "arr = np.array([[1, 2, 3], [4, 5, 6], [7, 8, 9], \n",
    "                [10, 11, 12], [13, 14, 15], [16, 17, 18]])\n",
    "\n",
    "newarr = np.vsplit(arr, 3)\n",
    "print(newarr)"
   ]
  },
  {
   "cell_type": "code",
   "execution_count": 77,
   "id": "2a315186",
   "metadata": {},
   "outputs": [
    {
     "name": "stdout",
     "output_type": "stream",
     "text": [
      "[[1 2 3]\n",
      " [4 5 6]]\n",
      "[[ 7  8  9]\n",
      " [10 11 12]]\n",
      "[[13 14 15]\n",
      " [16 17 18]]\n"
     ]
    }
   ],
   "source": [
    "print(newarr[0])\n",
    "print(newarr[1])\n",
    "print(newarr[2])"
   ]
  },
  {
   "cell_type": "code",
   "execution_count": 78,
   "id": "678ececa",
   "metadata": {},
   "outputs": [
    {
     "name": "stdout",
     "output_type": "stream",
     "text": [
      "[array([1, 2]), array([3, 4]), array([5, 6])]\n"
     ]
    }
   ],
   "source": [
    "arr = np.array([1, 2, 3, 4, 5, 6])\n",
    "newarr = np.array_split(arr, 3)\n",
    "print(newarr)\n",
    "#  The return value is an array containing three arrays."
   ]
  },
  {
   "cell_type": "markdown",
   "id": "6c9dd167",
   "metadata": {},
   "source": [
    "* The return value of the array_split() method is an array containing each of the split as an array.\n",
    "* If you split an array into 3 arrays, you can access them from the result just like any array element:"
   ]
  },
  {
   "cell_type": "code",
   "execution_count": 79,
   "id": "af65f22b",
   "metadata": {},
   "outputs": [
    {
     "name": "stdout",
     "output_type": "stream",
     "text": [
      "[array([1, 2]), array([3, 4]), array([5, 6])]\n",
      "[1 2]\n",
      "[3 4]\n",
      "[5 6]\n"
     ]
    }
   ],
   "source": [
    "arr = np.array([1, 2, 3, 4, 5, 6])\n",
    "\n",
    "newarr = np.array_split(arr, 3)\n",
    "print(newarr)\n",
    "\n",
    "print(newarr[0])\n",
    "print(newarr[1])\n",
    "print(newarr[2])"
   ]
  },
  {
   "cell_type": "code",
   "execution_count": 80,
   "id": "628ebbaa",
   "metadata": {},
   "outputs": [
    {
     "name": "stdout",
     "output_type": "stream",
     "text": [
      "[array([1, 2]), array([3, 4]), array([5]), array([6])]\n"
     ]
    }
   ],
   "source": [
    "# If the array has less elements than required, it will adjust from the end accordingly.\n",
    "arr = np.array([1, 2, 3, 4, 5, 6])\n",
    "\n",
    "newarr = np.array_split(arr, 4)\n",
    "\n",
    "print(newarr)"
   ]
  },
  {
   "cell_type": "code",
   "execution_count": 81,
   "id": "b5385732",
   "metadata": {},
   "outputs": [
    {
     "name": "stdout",
     "output_type": "stream",
     "text": [
      "[array([[1, 2],\n",
      "       [3, 4]]), array([[5, 6],\n",
      "       [7, 8]]), array([[ 9, 10],\n",
      "       [11, 12]])]\n"
     ]
    }
   ],
   "source": [
    "# Split the 2-D array into three 2-D arrays.\n",
    "\n",
    "arr = np.array([[1, 2], [3, 4], [5, 6], [7, 8], [9, 10], [11, 12]])\n",
    "\n",
    "newarr = np.array_split(arr, 3)\n",
    "\n",
    "print(newarr)"
   ]
  },
  {
   "cell_type": "code",
   "execution_count": 82,
   "id": "3ab87f9f",
   "metadata": {},
   "outputs": [
    {
     "name": "stdout",
     "output_type": "stream",
     "text": [
      "[[1 2]\n",
      " [3 4]]\n",
      "[[5 6]\n",
      " [7 8]]\n",
      "[[ 9 10]\n",
      " [11 12]]\n"
     ]
    }
   ],
   "source": [
    "print(newarr[0])\n",
    "print(newarr[1])\n",
    "print(newarr[2])"
   ]
  },
  {
   "cell_type": "markdown",
   "id": "7c26b6b5",
   "metadata": {},
   "source": [
    "* In addition, you can specify which axis you want to do the split around.\n",
    "* The example below also returns three 2-D arrays, but they are split along the row (axis=1)."
   ]
  },
  {
   "cell_type": "code",
   "execution_count": 83,
   "id": "f4c188ec",
   "metadata": {},
   "outputs": [
    {
     "name": "stdout",
     "output_type": "stream",
     "text": [
      "[array([[ 1],\n",
      "       [ 4],\n",
      "       [ 7],\n",
      "       [10],\n",
      "       [13],\n",
      "       [16]]), array([[ 2],\n",
      "       [ 5],\n",
      "       [ 8],\n",
      "       [11],\n",
      "       [14],\n",
      "       [17]]), array([[ 3],\n",
      "       [ 6],\n",
      "       [ 9],\n",
      "       [12],\n",
      "       [15],\n",
      "       [18]])]\n"
     ]
    }
   ],
   "source": [
    "arr = np.array([[1, 2, 3], [4, 5, 6], [7, 8, 9], [10, 11, 12], [13, 14, 15], [16, 17, 18]])\n",
    "\n",
    "newarr = np.array_split(arr, 3, axis=1)\n",
    "\n",
    "print(newarr)"
   ]
  },
  {
   "cell_type": "code",
   "execution_count": 84,
   "id": "9634853c",
   "metadata": {},
   "outputs": [
    {
     "name": "stdout",
     "output_type": "stream",
     "text": [
      "[[ 1]\n",
      " [ 4]\n",
      " [ 7]\n",
      " [10]\n",
      " [13]\n",
      " [16]]\n",
      "[[ 2]\n",
      " [ 5]\n",
      " [ 8]\n",
      " [11]\n",
      " [14]\n",
      " [17]]\n",
      "[[ 3]\n",
      " [ 6]\n",
      " [ 9]\n",
      " [12]\n",
      " [15]\n",
      " [18]]\n"
     ]
    }
   ],
   "source": [
    "print(newarr[0])\n",
    "print(newarr[1])\n",
    "print(newarr[2])"
   ]
  },
  {
   "cell_type": "code",
   "execution_count": 86,
   "id": "1cd13cd2",
   "metadata": {},
   "outputs": [
    {
     "name": "stdout",
     "output_type": "stream",
     "text": [
      "[array([[1, 2, 3],\n",
      "       [4, 5, 6]]), array([[ 7,  8,  9],\n",
      "       [10, 11, 12]]), array([[13, 14, 15],\n",
      "       [16, 17, 18]])]\n"
     ]
    }
   ],
   "source": [
    "arr = np.array([[1, 2, 3], [4, 5, 6], [7, 8, 9], [10, 11, 12], [13, 14, 15], [16, 17, 18]])\n",
    "\n",
    "newarr = np.array_split(arr, 3, axis=0)\n",
    "\n",
    "print(newarr)"
   ]
  }
 ],
 "metadata": {
  "kernelspec": {
   "display_name": "Python 3 (ipykernel)",
   "language": "python",
   "name": "python3"
  },
  "language_info": {
   "codemirror_mode": {
    "name": "ipython",
    "version": 3
   },
   "file_extension": ".py",
   "mimetype": "text/x-python",
   "name": "python",
   "nbconvert_exporter": "python",
   "pygments_lexer": "ipython3",
   "version": "3.9.13"
  }
 },
 "nbformat": 4,
 "nbformat_minor": 5
}

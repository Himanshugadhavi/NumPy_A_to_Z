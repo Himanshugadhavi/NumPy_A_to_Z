{
 "cells": [
  {
   "cell_type": "code",
   "execution_count": 2,
   "id": "01b5214d",
   "metadata": {},
   "outputs": [],
   "source": [
    "import numpy as np"
   ]
  },
  {
   "cell_type": "markdown",
   "id": "9c6ece50",
   "metadata": {},
   "source": [
    "### np.sort\n",
    "* Return a sorted copy of an array."
   ]
  },
  {
   "cell_type": "code",
   "execution_count": 3,
   "id": "33f15cee",
   "metadata": {},
   "outputs": [
    {
     "data": {
      "text/plain": [
       "array([64,  3, 79, 55, 72, 93, 38,  4, 50, 99, 73, 17, 90, 63, 52])"
      ]
     },
     "execution_count": 3,
     "metadata": {},
     "output_type": "execute_result"
    }
   ],
   "source": [
    "a = np.random.randint(1,100,15)\n",
    "a"
   ]
  },
  {
   "cell_type": "code",
   "execution_count": 4,
   "id": "b33b8a22",
   "metadata": {},
   "outputs": [
    {
     "data": {
      "text/plain": [
       "array([ 3,  4, 17, 38, 50, 52, 55, 63, 64, 72, 73, 79, 90, 93, 99])"
      ]
     },
     "execution_count": 4,
     "metadata": {},
     "output_type": "execute_result"
    }
   ],
   "source": [
    "np.sort(a)\n",
    "# we will get in ascending order"
   ]
  },
  {
   "cell_type": "code",
   "execution_count": 5,
   "id": "4599300b",
   "metadata": {},
   "outputs": [
    {
     "data": {
      "text/plain": [
       "array([99, 93, 90, 79, 73, 72, 64, 63, 55, 52, 50, 38, 17,  4,  3])"
      ]
     },
     "execution_count": 5,
     "metadata": {},
     "output_type": "execute_result"
    }
   ],
   "source": [
    "np.sort(a)[::-1]\n",
    "# for descending order"
   ]
  },
  {
   "cell_type": "code",
   "execution_count": 6,
   "id": "7bcf8a00",
   "metadata": {},
   "outputs": [
    {
     "data": {
      "text/plain": [
       "array([[33, 54, 89, 74],\n",
       "       [82, 97, 59, 83],\n",
       "       [17, 26, 92, 17],\n",
       "       [78, 35, 68, 25],\n",
       "       [50, 90, 96, 71],\n",
       "       [59, 32, 65, 50]])"
      ]
     },
     "execution_count": 6,
     "metadata": {},
     "output_type": "execute_result"
    }
   ],
   "source": [
    "b = np.random.randint(1,100,24).reshape(6,4)\n",
    "b"
   ]
  },
  {
   "cell_type": "code",
   "execution_count": 7,
   "id": "5e98f13e",
   "metadata": {},
   "outputs": [
    {
     "data": {
      "text/plain": [
       "array([[17, 26, 59, 17],\n",
       "       [33, 32, 65, 25],\n",
       "       [50, 35, 68, 50],\n",
       "       [59, 54, 89, 71],\n",
       "       [78, 90, 92, 74],\n",
       "       [82, 97, 96, 83]])"
      ]
     },
     "execution_count": 7,
     "metadata": {},
     "output_type": "execute_result"
    }
   ],
   "source": [
    "np.sort(b,axis=0)\n",
    "# column wise sorting"
   ]
  },
  {
   "cell_type": "markdown",
   "id": "070167be",
   "metadata": {},
   "source": [
    "### np.append\n",
    "* The numpy.append() appends values along the mentioned axis at the end of the array\n",
    "* **reference :** https://numpy.org/doc/stable/reference/generated/numpy.append.html"
   ]
  },
  {
   "cell_type": "code",
   "execution_count": 8,
   "id": "2f7f8076",
   "metadata": {},
   "outputs": [
    {
     "data": {
      "text/plain": [
       "array([63, 41, 38, 56, 33, 38, 75,  9, 40, 61, 76, 28, 11, 67, 66])"
      ]
     },
     "execution_count": 8,
     "metadata": {},
     "output_type": "execute_result"
    }
   ],
   "source": [
    "a = np.random.randint(1,100,15)\n",
    "a"
   ]
  },
  {
   "cell_type": "code",
   "execution_count": 9,
   "id": "261c915f",
   "metadata": {},
   "outputs": [
    {
     "data": {
      "text/plain": [
       "array([ 63,  41,  38,  56,  33,  38,  75,   9,  40,  61,  76,  28,  11,\n",
       "        67,  66, 100])"
      ]
     },
     "execution_count": 9,
     "metadata": {},
     "output_type": "execute_result"
    }
   ],
   "source": [
    "np.append(a,100)"
   ]
  },
  {
   "cell_type": "code",
   "execution_count": 10,
   "id": "2d5a96c2",
   "metadata": {},
   "outputs": [
    {
     "data": {
      "text/plain": [
       "array([[72, 66, 37,  6],\n",
       "       [ 9,  2, 85, 22],\n",
       "       [97, 25, 50, 79],\n",
       "       [ 5, 72, 72, 64],\n",
       "       [51, 20, 87, 32],\n",
       "       [96, 26, 70, 13]])"
      ]
     },
     "execution_count": 10,
     "metadata": {},
     "output_type": "execute_result"
    }
   ],
   "source": [
    "# append in 2D column\n",
    "b = np.random.randint(1,100,24).reshape(6,4)\n",
    "b"
   ]
  },
  {
   "cell_type": "code",
   "execution_count": 11,
   "id": "86c09d38",
   "metadata": {},
   "outputs": [
    {
     "data": {
      "text/plain": [
       "array([[72., 66., 37.,  6.,  1.],\n",
       "       [ 9.,  2., 85., 22.,  1.],\n",
       "       [97., 25., 50., 79.,  1.],\n",
       "       [ 5., 72., 72., 64.,  1.],\n",
       "       [51., 20., 87., 32.,  1.],\n",
       "       [96., 26., 70., 13.,  1.]])"
      ]
     },
     "execution_count": 11,
     "metadata": {},
     "output_type": "execute_result"
    }
   ],
   "source": [
    "# suppose we want to append one column in the last\n",
    "np.append(b,np.ones((b.shape[0],1)),axis=1)\n",
    "# here b.shape[0] will give the number of rows in the b array"
   ]
  },
  {
   "cell_type": "markdown",
   "id": "f298369b",
   "metadata": {},
   "source": [
    "### np.concatenate\n",
    "* numpy.concatenate() function concatenate a sequence of arrays along an existing axis.\n",
    "* **reference :** https://numpy.org/doc/stable/reference/generated/numpy.concatenate.html"
   ]
  },
  {
   "cell_type": "code",
   "execution_count": 12,
   "id": "649fb41e",
   "metadata": {},
   "outputs": [
    {
     "name": "stdout",
     "output_type": "stream",
     "text": [
      "[[0 1 2]\n",
      " [3 4 5]]\n",
      "[[ 6  7  8]\n",
      " [ 9 10 11]]\n"
     ]
    }
   ],
   "source": [
    "c =  np.arange(6).reshape(2,3)\n",
    "d =  np.arange(6,12).reshape(2,3)\n",
    "\n",
    "print(c)\n",
    "print(d)"
   ]
  },
  {
   "cell_type": "code",
   "execution_count": 13,
   "id": "af66c35c",
   "metadata": {},
   "outputs": [
    {
     "data": {
      "text/plain": [
       "array([[ 0,  1,  2],\n",
       "       [ 3,  4,  5],\n",
       "       [ 6,  7,  8],\n",
       "       [ 9, 10, 11]])"
      ]
     },
     "execution_count": 13,
     "metadata": {},
     "output_type": "execute_result"
    }
   ],
   "source": [
    "np.concatenate((c,d),axis=0)\n",
    "# row wise concatination"
   ]
  },
  {
   "cell_type": "code",
   "execution_count": 14,
   "id": "a9e3e457",
   "metadata": {},
   "outputs": [
    {
     "data": {
      "text/plain": [
       "array([[ 0,  1,  2,  6,  7,  8],\n",
       "       [ 3,  4,  5,  9, 10, 11]])"
      ]
     },
     "execution_count": 14,
     "metadata": {},
     "output_type": "execute_result"
    }
   ],
   "source": [
    "np.concatenate((c,d),axis=1)\n",
    "# column wise concatination         "
   ]
  },
  {
   "cell_type": "markdown",
   "id": "5736da53",
   "metadata": {},
   "source": [
    "### np.unique\n",
    "* With the help of np.unique() method, we can get the unique values from an array given as parameter in np.unique() method.\n",
    "* **reference :** https://numpy.org/doc/stable/reference/generated/numpy.unique.html/"
   ]
  },
  {
   "cell_type": "code",
   "execution_count": 15,
   "id": "f4df5cfa",
   "metadata": {},
   "outputs": [
    {
     "data": {
      "text/plain": [
       "array([1, 1, 2, 2, 3, 3, 4, 4, 5, 5, 6, 6])"
      ]
     },
     "execution_count": 15,
     "metadata": {},
     "output_type": "execute_result"
    }
   ],
   "source": [
    "e = np.array([1,1,2,2,3,3,4,4,5,5,6,6])\n",
    "e"
   ]
  },
  {
   "cell_type": "code",
   "execution_count": 16,
   "id": "d6dba7c9",
   "metadata": {},
   "outputs": [
    {
     "data": {
      "text/plain": [
       "array([1, 2, 3, 4, 5, 6])"
      ]
     },
     "execution_count": 16,
     "metadata": {},
     "output_type": "execute_result"
    }
   ],
   "source": [
    "np.unique(e)"
   ]
  },
  {
   "cell_type": "markdown",
   "id": "6f98c557",
   "metadata": {},
   "source": [
    "### np.expand_dims\n",
    "* With the help of Numpy.expand_dims() method, we can get the expanded dimensions of an array\n",
    "* **reference :** https://numpy.org/doc/stable/reference/generated/numpy.expand_dims.html"
   ]
  },
  {
   "cell_type": "code",
   "execution_count": 17,
   "id": "053d535e",
   "metadata": {},
   "outputs": [
    {
     "data": {
      "text/plain": [
       "array([88, 56, 24, 23, 41, 43,  2, 39, 64, 74, 35, 17, 96, 75, 40])"
      ]
     },
     "execution_count": 17,
     "metadata": {},
     "output_type": "execute_result"
    }
   ],
   "source": [
    "a = np.random.randint(1,100,15)\n",
    "a"
   ]
  },
  {
   "cell_type": "code",
   "execution_count": 18,
   "id": "f0ae349c",
   "metadata": {},
   "outputs": [
    {
     "data": {
      "text/plain": [
       "array([[88, 56, 24, 23, 41, 43,  2, 39, 64, 74, 35, 17, 96, 75, 40]])"
      ]
     },
     "execution_count": 18,
     "metadata": {},
     "output_type": "execute_result"
    }
   ],
   "source": [
    "# a is a 1D array. we can convert it to 2D array\n",
    "np.expand_dims(a,axis=0)\n",
    "# we will get 2D array with row dimensions"
   ]
  },
  {
   "cell_type": "code",
   "execution_count": 19,
   "id": "d2f0e5c0",
   "metadata": {},
   "outputs": [
    {
     "data": {
      "text/plain": [
       "(1, 15)"
      ]
     },
     "execution_count": 19,
     "metadata": {},
     "output_type": "execute_result"
    }
   ],
   "source": [
    "np.expand_dims(a,axis=0).shape"
   ]
  },
  {
   "cell_type": "code",
   "execution_count": 20,
   "id": "ddfb4b5c",
   "metadata": {},
   "outputs": [
    {
     "data": {
      "text/plain": [
       "array([[88],\n",
       "       [56],\n",
       "       [24],\n",
       "       [23],\n",
       "       [41],\n",
       "       [43],\n",
       "       [ 2],\n",
       "       [39],\n",
       "       [64],\n",
       "       [74],\n",
       "       [35],\n",
       "       [17],\n",
       "       [96],\n",
       "       [75],\n",
       "       [40]])"
      ]
     },
     "execution_count": 20,
     "metadata": {},
     "output_type": "execute_result"
    }
   ],
   "source": [
    "# a is a 1D array. we can convert it to 2D array\n",
    "np.expand_dims(a,axis=1)\n",
    "# we will get 2D array with column dimensions"
   ]
  },
  {
   "cell_type": "code",
   "execution_count": 21,
   "id": "786261d4",
   "metadata": {},
   "outputs": [
    {
     "data": {
      "text/plain": [
       "(15, 1)"
      ]
     },
     "execution_count": 21,
     "metadata": {},
     "output_type": "execute_result"
    }
   ],
   "source": [
    "np.expand_dims(a,axis=1).shape"
   ]
  },
  {
   "cell_type": "markdown",
   "id": "a2ae76ec",
   "metadata": {},
   "source": [
    "### np.where\n",
    "* The numpy.where() function returns the indices of elements in an input array where the given condition is satisfied.\n",
    "* **reference :** https://numpy.org/doc/stable/reference/generated/numpy.where.html"
   ]
  },
  {
   "cell_type": "code",
   "execution_count": 22,
   "id": "88a7a658",
   "metadata": {},
   "outputs": [
    {
     "data": {
      "text/plain": [
       "array([86, 58, 29,  4, 73, 68, 81, 20, 58, 32, 79, 56, 25, 79,  9])"
      ]
     },
     "execution_count": 22,
     "metadata": {},
     "output_type": "execute_result"
    }
   ],
   "source": [
    "a = np.random.randint(1,100,15)\n",
    "a"
   ]
  },
  {
   "cell_type": "code",
   "execution_count": 23,
   "id": "1344bd32",
   "metadata": {},
   "outputs": [
    {
     "data": {
      "text/plain": [
       "(array([ 0,  1,  4,  5,  6,  8, 10, 11, 13], dtype=int64),)"
      ]
     },
     "execution_count": 23,
     "metadata": {},
     "output_type": "execute_result"
    }
   ],
   "source": [
    "# find all the indices with value greater than 50\n",
    "np.where(a>50)\n",
    "# syntax = np.where(condition,True,False)"
   ]
  },
  {
   "cell_type": "code",
   "execution_count": 24,
   "id": "97264ad4",
   "metadata": {},
   "outputs": [
    {
     "data": {
      "text/plain": [
       "array([ 0,  0, 29,  4,  0,  0,  0, 20,  0, 32,  0,  0, 25,  0,  9])"
      ]
     },
     "execution_count": 24,
     "metadata": {},
     "output_type": "execute_result"
    }
   ],
   "source": [
    "# replace all values > 50 with 0\n",
    "np.where(a>50,0,a)"
   ]
  },
  {
   "cell_type": "code",
   "execution_count": 25,
   "id": "e2f50b78",
   "metadata": {},
   "outputs": [
    {
     "data": {
      "text/plain": [
       "array([ 0,  0, 29,  4,  0,  0,  0, 20,  0, 32,  0,  0, 25,  0,  9])"
      ]
     },
     "execution_count": 25,
     "metadata": {},
     "output_type": "execute_result"
    }
   ],
   "source": [
    "# other way to replace all values > 50 with 0\n",
    "a[np.where(a>50)]=0\n",
    "a"
   ]
  },
  {
   "cell_type": "code",
   "execution_count": 26,
   "id": "d155438c",
   "metadata": {},
   "outputs": [
    {
     "data": {
      "text/plain": [
       "array([ 0,  0, 29,  0,  0,  0,  0,  0,  0,  0,  0,  0, 25,  0,  9])"
      ]
     },
     "execution_count": 26,
     "metadata": {},
     "output_type": "execute_result"
    }
   ],
   "source": [
    "# we wannt to replace all even numbers with value zero\n",
    "np.where(a%2 == 0,0,a)"
   ]
  },
  {
   "cell_type": "markdown",
   "id": "ec74197e",
   "metadata": {},
   "source": [
    "### np.argmax\n",
    "* The numpy.argmax() function returns indices of the max element of the array in a particular axis.\n",
    "* **reference :** https://numpy.org/doc/stable/reference/generated/numpy.argmax.html"
   ]
  },
  {
   "cell_type": "code",
   "execution_count": 27,
   "id": "8935d59e",
   "metadata": {},
   "outputs": [
    {
     "data": {
      "text/plain": [
       "array([98, 96, 78, 96, 18, 85, 73,  4, 43, 96, 81, 66, 51,  3, 69])"
      ]
     },
     "execution_count": 27,
     "metadata": {},
     "output_type": "execute_result"
    }
   ],
   "source": [
    "a = np.random.randint(1,100,15)\n",
    "a"
   ]
  },
  {
   "cell_type": "code",
   "execution_count": 28,
   "id": "2d125843",
   "metadata": {},
   "outputs": [
    {
     "data": {
      "text/plain": [
       "0"
      ]
     },
     "execution_count": 28,
     "metadata": {},
     "output_type": "execute_result"
    }
   ],
   "source": [
    "'''this will tell us that largest number \n",
    "in the arrayis on which position'''\n",
    "np.argmax(a)"
   ]
  },
  {
   "cell_type": "code",
   "execution_count": 29,
   "id": "0d2c82ec",
   "metadata": {},
   "outputs": [
    {
     "data": {
      "text/plain": [
       "array([[84, 29, 89, 91],\n",
       "       [34,  9, 48, 47],\n",
       "       [ 1, 49, 35, 45],\n",
       "       [27, 28, 62, 95],\n",
       "       [29, 64, 19, 33],\n",
       "       [46,  9, 59,  2]])"
      ]
     },
     "execution_count": 29,
     "metadata": {},
     "output_type": "execute_result"
    }
   ],
   "source": [
    "b = np.random.randint(1,100,24).reshape(6,4)\n",
    "b"
   ]
  },
  {
   "cell_type": "code",
   "execution_count": 30,
   "id": "823b4c30",
   "metadata": {},
   "outputs": [
    {
     "data": {
      "text/plain": [
       "array([0, 4, 0, 3], dtype=int64)"
      ]
     },
     "execution_count": 30,
     "metadata": {},
     "output_type": "execute_result"
    }
   ],
   "source": [
    "np.argmax(b,axis=0)"
   ]
  },
  {
   "cell_type": "code",
   "execution_count": 31,
   "id": "c70e8633",
   "metadata": {
    "scrolled": true
   },
   "outputs": [
    {
     "data": {
      "text/plain": [
       "array([3, 2, 1, 3, 1, 2], dtype=int64)"
      ]
     },
     "execution_count": 31,
     "metadata": {},
     "output_type": "execute_result"
    }
   ],
   "source": [
    "np.argmax(b,axis=1)"
   ]
  },
  {
   "cell_type": "markdown",
   "id": "8572cae8",
   "metadata": {},
   "source": [
    "### np.argmin"
   ]
  },
  {
   "cell_type": "code",
   "execution_count": 32,
   "id": "dd1a1aca",
   "metadata": {},
   "outputs": [
    {
     "data": {
      "text/plain": [
       "13"
      ]
     },
     "execution_count": 32,
     "metadata": {},
     "output_type": "execute_result"
    }
   ],
   "source": [
    "np.argmin(a)"
   ]
  },
  {
   "cell_type": "markdown",
   "id": "a8d910ba",
   "metadata": {},
   "source": [
    "### np.cumsum\n",
    "* numpy.cumsum() function is used when we want to compute the cumulative sum of array elements over a given axis.\n",
    "* **reference :** https://numpy.org/doc/stable/reference/generated/numpy.cumsum.html"
   ]
  },
  {
   "cell_type": "code",
   "execution_count": 33,
   "id": "5535805a",
   "metadata": {},
   "outputs": [
    {
     "data": {
      "text/plain": [
       "array([20, 82, 52, 71, 14, 51, 13, 71, 66, 68, 22, 28, 88, 41, 20])"
      ]
     },
     "execution_count": 33,
     "metadata": {},
     "output_type": "execute_result"
    }
   ],
   "source": [
    "a = np.random.randint(1,100,15)\n",
    "a"
   ]
  },
  {
   "cell_type": "code",
   "execution_count": 34,
   "id": "5e5125d0",
   "metadata": {},
   "outputs": [
    {
     "data": {
      "text/plain": [
       "array([ 20, 102, 154, 225, 239, 290, 303, 374, 440, 508, 530, 558, 646,\n",
       "       687, 707], dtype=int32)"
      ]
     },
     "execution_count": 34,
     "metadata": {},
     "output_type": "execute_result"
    }
   ],
   "source": [
    "np.cumsum(a)"
   ]
  },
  {
   "cell_type": "code",
   "execution_count": 35,
   "id": "7624eddc",
   "metadata": {},
   "outputs": [
    {
     "data": {
      "text/plain": [
       "array([[ 7, 99, 69, 44],\n",
       "       [75, 96, 67, 80],\n",
       "       [30, 96, 70, 54],\n",
       "       [ 1,  9, 77, 52],\n",
       "       [50, 71, 56, 77],\n",
       "       [ 9, 14, 66, 11]])"
      ]
     },
     "execution_count": 35,
     "metadata": {},
     "output_type": "execute_result"
    }
   ],
   "source": [
    "b = np.random.randint(1,100,24).reshape(6,4)\n",
    "b"
   ]
  },
  {
   "cell_type": "code",
   "execution_count": 36,
   "id": "f598b136",
   "metadata": {},
   "outputs": [
    {
     "data": {
      "text/plain": [
       "array([   7,  106,  175,  219,  294,  390,  457,  537,  567,  663,  733,\n",
       "        787,  788,  797,  874,  926,  976, 1047, 1103, 1180, 1189, 1203,\n",
       "       1269, 1280], dtype=int32)"
      ]
     },
     "execution_count": 36,
     "metadata": {},
     "output_type": "execute_result"
    }
   ],
   "source": [
    "'''if we do not provide any axis in the 2D array then,\n",
    "it will be converted in the 1D array and we will get the result'''\n",
    "np.cumsum(b)"
   ]
  },
  {
   "cell_type": "code",
   "execution_count": 37,
   "id": "b90f49e2",
   "metadata": {
    "scrolled": true
   },
   "outputs": [
    {
     "data": {
      "text/plain": [
       "array([[  7,  99,  69,  44],\n",
       "       [ 82, 195, 136, 124],\n",
       "       [112, 291, 206, 178],\n",
       "       [113, 300, 283, 230],\n",
       "       [163, 371, 339, 307],\n",
       "       [172, 385, 405, 318]], dtype=int32)"
      ]
     },
     "execution_count": 37,
     "metadata": {},
     "output_type": "execute_result"
    }
   ],
   "source": [
    "np.cumsum(b,axis=0)"
   ]
  },
  {
   "cell_type": "code",
   "execution_count": 38,
   "id": "6672b1b1",
   "metadata": {},
   "outputs": [
    {
     "data": {
      "text/plain": [
       "array([[  7, 106, 175, 219],\n",
       "       [ 75, 171, 238, 318],\n",
       "       [ 30, 126, 196, 250],\n",
       "       [  1,  10,  87, 139],\n",
       "       [ 50, 121, 177, 254],\n",
       "       [  9,  23,  89, 100]], dtype=int32)"
      ]
     },
     "execution_count": 38,
     "metadata": {},
     "output_type": "execute_result"
    }
   ],
   "source": [
    "np.cumsum(b,axis=1)"
   ]
  },
  {
   "cell_type": "markdown",
   "id": "32650d15",
   "metadata": {},
   "source": [
    "### np.cumprod"
   ]
  },
  {
   "cell_type": "code",
   "execution_count": 39,
   "id": "9ceb98e6",
   "metadata": {},
   "outputs": [
    {
     "data": {
      "text/plain": [
       "array([48, 12, 97, 37, 71, 61, 99, 95, 30, 21, 97, 16,  1, 79, 28])"
      ]
     },
     "execution_count": 39,
     "metadata": {},
     "output_type": "execute_result"
    }
   ],
   "source": [
    "a = np.random.randint(1,100,15)\n",
    "a"
   ]
  },
  {
   "cell_type": "code",
   "execution_count": 40,
   "id": "f5add2f2",
   "metadata": {},
   "outputs": [
    {
     "data": {
      "text/plain": [
       "array([         48,         576,       55872,     2067264,   146775744,\n",
       "         363385792,  1615455040, -1150593856,  -158077312,   975343744,\n",
       "         119062656,  1905002496,  1905002496,   171341824,   502603776],\n",
       "      dtype=int32)"
      ]
     },
     "execution_count": 40,
     "metadata": {},
     "output_type": "execute_result"
    }
   ],
   "source": [
    "np.cumprod(a)"
   ]
  },
  {
   "cell_type": "markdown",
   "id": "d05dcb43",
   "metadata": {},
   "source": [
    "### np.percentile\n",
    "* numpy.percentile()function used to compute the nth percentile of the given data (array elements) along the specified axis. \n",
    "* **reference :** https://numpy.org/doc/stable/reference/generated/numpy.percentile.html"
   ]
  },
  {
   "cell_type": "code",
   "execution_count": 41,
   "id": "b0951141",
   "metadata": {},
   "outputs": [
    {
     "data": {
      "text/plain": [
       "array([82, 11, 71, 16, 74, 27, 83, 87, 34, 31, 86, 42, 27, 71, 35])"
      ]
     },
     "execution_count": 41,
     "metadata": {},
     "output_type": "execute_result"
    }
   ],
   "source": [
    "a = np.random.randint(1,100,15)\n",
    "a"
   ]
  },
  {
   "cell_type": "code",
   "execution_count": 42,
   "id": "5f0e995a",
   "metadata": {},
   "outputs": [
    {
     "data": {
      "text/plain": [
       "87.0"
      ]
     },
     "execution_count": 42,
     "metadata": {},
     "output_type": "execute_result"
    }
   ],
   "source": [
    "np.percentile(a,100)\n",
    "# 100th percentile is maximum"
   ]
  },
  {
   "cell_type": "code",
   "execution_count": 43,
   "id": "262bfaa2",
   "metadata": {
    "scrolled": true
   },
   "outputs": [
    {
     "data": {
      "text/plain": [
       "84.8"
      ]
     },
     "execution_count": 43,
     "metadata": {},
     "output_type": "execute_result"
    }
   ],
   "source": [
    "np.percentile(a,90)"
   ]
  },
  {
   "cell_type": "code",
   "execution_count": 44,
   "id": "0a84e9e9",
   "metadata": {},
   "outputs": [
    {
     "data": {
      "text/plain": [
       "11.0"
      ]
     },
     "execution_count": 44,
     "metadata": {},
     "output_type": "execute_result"
    }
   ],
   "source": [
    "np.percentile(a,0)\n",
    "# 0 percentile is min"
   ]
  },
  {
   "cell_type": "code",
   "execution_count": 45,
   "id": "009c5e17",
   "metadata": {},
   "outputs": [
    {
     "data": {
      "text/plain": [
       "42.0"
      ]
     },
     "execution_count": 45,
     "metadata": {},
     "output_type": "execute_result"
    }
   ],
   "source": [
    "np.percentile(a,50)\n",
    "# 50th percentile is median"
   ]
  },
  {
   "cell_type": "markdown",
   "id": "a5ceab12",
   "metadata": {},
   "source": [
    "### np.histogram\n",
    "* Numpy has a built-in numpy.histogram() function which represents the frequency of data distribution in the graphical form.\n",
    "* **reference :** https://numpy.org/doc/stable/reference/generated/numpy.histogram.html"
   ]
  },
  {
   "cell_type": "code",
   "execution_count": 46,
   "id": "1ed7ed6a",
   "metadata": {},
   "outputs": [
    {
     "data": {
      "text/plain": [
       "array([23, 40, 21, 27, 30, 87, 78, 70, 85, 20, 51,  3, 19, 94, 62])"
      ]
     },
     "execution_count": 46,
     "metadata": {},
     "output_type": "execute_result"
    }
   ],
   "source": [
    "a = np.random.randint(1,100,15)\n",
    "a"
   ]
  },
  {
   "cell_type": "code",
   "execution_count": 47,
   "id": "e9a23c9b",
   "metadata": {},
   "outputs": [
    {
     "data": {
      "text/plain": [
       "(array([1, 1, 4, 1, 1, 1, 1, 2, 2], dtype=int64),\n",
       " array([ 0, 10, 20, 30, 40, 50, 60, 70, 80, 90]))"
      ]
     },
     "execution_count": 47,
     "metadata": {},
     "output_type": "execute_result"
    }
   ],
   "source": [
    "np.histogram(a,bins=[0,10,20,30,40,50,60,70,80,90])"
   ]
  },
  {
   "cell_type": "markdown",
   "id": "ee244527",
   "metadata": {},
   "source": [
    "### np.corrcoef\n",
    "* Return Pearson product-moment correlation coefficients.\n",
    "* **reference :** https://numpy.org/doc/stable/reference/generated/numpy.corrcoef.html"
   ]
  },
  {
   "cell_type": "code",
   "execution_count": 48,
   "id": "d15d5252",
   "metadata": {},
   "outputs": [],
   "source": [
    "salary = np.array([20000,40000,25000,35000,60000])\n",
    "experience = np.array([1,3,2,4,2])"
   ]
  },
  {
   "cell_type": "code",
   "execution_count": 49,
   "id": "bd85e80d",
   "metadata": {},
   "outputs": [
    {
     "data": {
      "text/plain": [
       "array([[1.        , 0.25344572],\n",
       "       [0.25344572, 1.        ]])"
      ]
     },
     "execution_count": 49,
     "metadata": {},
     "output_type": "execute_result"
    }
   ],
   "source": [
    "np.corrcoef(salary,experience)"
   ]
  },
  {
   "cell_type": "markdown",
   "id": "8feba4dc",
   "metadata": {},
   "source": [
    "### np.isin\n",
    "* With the help of numpy.isin() method, we can see that one array having values are checked in a different numpy array having different elements with different sizes.\n",
    "* **reference :** https://numpy.org/doc/stable/reference/generated/numpy.isin.html"
   ]
  },
  {
   "cell_type": "code",
   "execution_count": 50,
   "id": "10f232a6",
   "metadata": {},
   "outputs": [
    {
     "data": {
      "text/plain": [
       "array([88, 34, 16, 14, 95, 92, 22, 22, 89,  7, 93, 19, 85, 79, 76])"
      ]
     },
     "execution_count": 50,
     "metadata": {},
     "output_type": "execute_result"
    }
   ],
   "source": [
    "a = np.random.randint(1,100,15)\n",
    "a"
   ]
  },
  {
   "cell_type": "code",
   "execution_count": 51,
   "id": "cb032311",
   "metadata": {},
   "outputs": [],
   "source": [
    "# we want to search several items at a time\n",
    "items = [10,20,30,40,50,60,70,77,83,90]"
   ]
  },
  {
   "cell_type": "code",
   "execution_count": 52,
   "id": "5989b391",
   "metadata": {
    "scrolled": true
   },
   "outputs": [
    {
     "data": {
      "text/plain": [
       "array([False, False, False, False, False, False, False, False, False,\n",
       "       False, False, False, False, False, False])"
      ]
     },
     "execution_count": 52,
     "metadata": {},
     "output_type": "execute_result"
    }
   ],
   "source": [
    "np.isin(a,items)"
   ]
  },
  {
   "cell_type": "code",
   "execution_count": 53,
   "id": "f3653324",
   "metadata": {},
   "outputs": [
    {
     "data": {
      "text/plain": [
       "array([], dtype=int32)"
      ]
     },
     "execution_count": 53,
     "metadata": {},
     "output_type": "execute_result"
    }
   ],
   "source": [
    "a[np.isin(a,items)]"
   ]
  },
  {
   "cell_type": "markdown",
   "id": "f14a2f2e",
   "metadata": {},
   "source": [
    "### np.flip\n",
    "* The numpy.flip() function reverses the order of array elements along the specified axis, preserving the shape of the array.\n",
    "* **reference :** https://numpy.org/doc/stable/reference/generated/numpy.flip.html"
   ]
  },
  {
   "cell_type": "code",
   "execution_count": 54,
   "id": "a8b37d58",
   "metadata": {},
   "outputs": [
    {
     "data": {
      "text/plain": [
       "array([74, 29, 99, 57, 97, 72, 21, 47, 34, 20, 40, 32, 13, 77, 85])"
      ]
     },
     "execution_count": 54,
     "metadata": {},
     "output_type": "execute_result"
    }
   ],
   "source": [
    "a = np.random.randint(1,100,15)\n",
    "a"
   ]
  },
  {
   "cell_type": "code",
   "execution_count": 55,
   "id": "496861dc",
   "metadata": {
    "scrolled": true
   },
   "outputs": [
    {
     "data": {
      "text/plain": [
       "array([85, 77, 13, 32, 40, 20, 34, 47, 21, 72, 97, 57, 99, 29, 74])"
      ]
     },
     "execution_count": 55,
     "metadata": {},
     "output_type": "execute_result"
    }
   ],
   "source": [
    "np.flip(a)"
   ]
  },
  {
   "cell_type": "code",
   "execution_count": 56,
   "id": "68d0d7c4",
   "metadata": {},
   "outputs": [
    {
     "data": {
      "text/plain": [
       "array([[22, 84, 93, 94],\n",
       "       [71, 55, 57, 68],\n",
       "       [77, 96, 45, 86],\n",
       "       [82, 92, 23, 10],\n",
       "       [60, 71,  5, 96],\n",
       "       [49, 97, 57, 37]])"
      ]
     },
     "execution_count": 56,
     "metadata": {},
     "output_type": "execute_result"
    }
   ],
   "source": [
    "b = np.random.randint(1,100,24).reshape(6,4)\n",
    "b"
   ]
  },
  {
   "cell_type": "code",
   "execution_count": 57,
   "id": "9f2a5113",
   "metadata": {},
   "outputs": [
    {
     "data": {
      "text/plain": [
       "array([[37, 57, 97, 49],\n",
       "       [96,  5, 71, 60],\n",
       "       [10, 23, 92, 82],\n",
       "       [86, 45, 96, 77],\n",
       "       [68, 57, 55, 71],\n",
       "       [94, 93, 84, 22]])"
      ]
     },
     "execution_count": 57,
     "metadata": {},
     "output_type": "execute_result"
    }
   ],
   "source": [
    "np.flip(b)"
   ]
  },
  {
   "cell_type": "code",
   "execution_count": 58,
   "id": "f78a05f6",
   "metadata": {},
   "outputs": [
    {
     "data": {
      "text/plain": [
       "array([[49, 97, 57, 37],\n",
       "       [60, 71,  5, 96],\n",
       "       [82, 92, 23, 10],\n",
       "       [77, 96, 45, 86],\n",
       "       [71, 55, 57, 68],\n",
       "       [22, 84, 93, 94]])"
      ]
     },
     "execution_count": 58,
     "metadata": {},
     "output_type": "execute_result"
    }
   ],
   "source": [
    "np.flip(b,axis=0)"
   ]
  },
  {
   "cell_type": "code",
   "execution_count": 59,
   "id": "64c2753b",
   "metadata": {},
   "outputs": [
    {
     "data": {
      "text/plain": [
       "array([[94, 93, 84, 22],\n",
       "       [68, 57, 55, 71],\n",
       "       [86, 45, 96, 77],\n",
       "       [10, 23, 92, 82],\n",
       "       [96,  5, 71, 60],\n",
       "       [37, 57, 97, 49]])"
      ]
     },
     "execution_count": 59,
     "metadata": {},
     "output_type": "execute_result"
    }
   ],
   "source": [
    "np.flip(b,axis=1)"
   ]
  },
  {
   "cell_type": "markdown",
   "id": "890596bb",
   "metadata": {},
   "source": [
    "### np.put\n",
    "* The numpy.put() function replaces specific elements of an array with given values of p_array. Array indexed works on flattened array. \n",
    "* **reference :** https://numpy.org/doc/stable/reference/generated/numpy.put.html"
   ]
  },
  {
   "cell_type": "code",
   "execution_count": 60,
   "id": "3d57cf1d",
   "metadata": {},
   "outputs": [
    {
     "data": {
      "text/plain": [
       "array([73, 81, 72, 60, 25, 95, 42,  2, 13, 20, 83, 33, 98, 66, 57])"
      ]
     },
     "execution_count": 60,
     "metadata": {},
     "output_type": "execute_result"
    }
   ],
   "source": [
    "a = np.random.randint(1,100,15)\n",
    "a"
   ]
  },
  {
   "cell_type": "code",
   "execution_count": 61,
   "id": "32883707",
   "metadata": {},
   "outputs": [],
   "source": [
    "np.put(a,[0,1,3],[100,20,43])\n",
    "# inside the function a is array,second part is indices and then values\n",
    "# this put function will do permanent change"
   ]
  },
  {
   "cell_type": "code",
   "execution_count": 62,
   "id": "64218466",
   "metadata": {},
   "outputs": [
    {
     "data": {
      "text/plain": [
       "array([100,  20,  72,  43,  25,  95,  42,   2,  13,  20,  83,  33,  98,\n",
       "        66,  57])"
      ]
     },
     "execution_count": 62,
     "metadata": {},
     "output_type": "execute_result"
    }
   ],
   "source": [
    "a"
   ]
  },
  {
   "cell_type": "markdown",
   "id": "034bb88e",
   "metadata": {},
   "source": [
    "### np.delete\n",
    "* The numpy.delete() function returns a new array with the deletion of sub-arrays along with the mentioned axis. \n",
    "* **reference :** https://numpy.org/doc/stable/reference/generated/numpy.delete.html"
   ]
  },
  {
   "cell_type": "code",
   "execution_count": 63,
   "id": "c6a0eaf0",
   "metadata": {},
   "outputs": [
    {
     "data": {
      "text/plain": [
       "array([44, 30, 48, 74, 20,  4,  6,  6, 22, 60, 41, 87, 67, 56,  9])"
      ]
     },
     "execution_count": 63,
     "metadata": {},
     "output_type": "execute_result"
    }
   ],
   "source": [
    "a = np.random.randint(1,100,15)\n",
    "a"
   ]
  },
  {
   "cell_type": "code",
   "execution_count": 64,
   "id": "994fc11d",
   "metadata": {},
   "outputs": [
    {
     "data": {
      "text/plain": [
       "array([30, 48, 74, 20,  4,  6,  6, 22, 60, 41, 87, 67, 56,  9])"
      ]
     },
     "execution_count": 64,
     "metadata": {},
     "output_type": "execute_result"
    }
   ],
   "source": [
    "# suppose we want to delete the item 83 from the array a\n",
    "np.delete(a,0)"
   ]
  },
  {
   "cell_type": "code",
   "execution_count": 65,
   "id": "a29c6d97",
   "metadata": {},
   "outputs": [
    {
     "data": {
      "text/plain": [
       "array([74,  4,  6,  6, 60, 41, 87, 67, 56,  9])"
      ]
     },
     "execution_count": 65,
     "metadata": {},
     "output_type": "execute_result"
    }
   ],
   "source": [
    "# we can delete multiple items too\n",
    "np.delete(a,[0,1,2,4,8])"
   ]
  },
  {
   "cell_type": "markdown",
   "id": "7d9ed028",
   "metadata": {},
   "source": [
    "### Set functions\n",
    "\n",
    "- np.union1d\n",
    "- np.intersect1d\n",
    "- np.setdiff1d\n",
    "- np.setxor1d\n",
    "- np.in1d\n",
    "\n",
    "* **Note :** here we will get the result in form of numpy arrays only"
   ]
  },
  {
   "cell_type": "code",
   "execution_count": 66,
   "id": "fddafa79",
   "metadata": {},
   "outputs": [],
   "source": [
    "m = np.array([1,2,3,4,5])\n",
    "n = np.array([3,4,5,6,7])"
   ]
  },
  {
   "cell_type": "code",
   "execution_count": 67,
   "id": "ecf64b0f",
   "metadata": {},
   "outputs": [
    {
     "data": {
      "text/plain": [
       "array([1, 2, 3, 4, 5, 6, 7])"
      ]
     },
     "execution_count": 67,
     "metadata": {},
     "output_type": "execute_result"
    }
   ],
   "source": [
    "np.union1d(m,n)"
   ]
  },
  {
   "cell_type": "code",
   "execution_count": 68,
   "id": "c245b3b9",
   "metadata": {},
   "outputs": [
    {
     "data": {
      "text/plain": [
       "array([3, 4, 5])"
      ]
     },
     "execution_count": 68,
     "metadata": {},
     "output_type": "execute_result"
    }
   ],
   "source": [
    "np.intersect1d(m,n)"
   ]
  },
  {
   "cell_type": "code",
   "execution_count": 69,
   "id": "da1f6e1d",
   "metadata": {},
   "outputs": [
    {
     "data": {
      "text/plain": [
       "array([1, 2])"
      ]
     },
     "execution_count": 69,
     "metadata": {},
     "output_type": "execute_result"
    }
   ],
   "source": [
    "np.setdiff1d(m,n)"
   ]
  },
  {
   "cell_type": "code",
   "execution_count": 70,
   "id": "b5d9627c",
   "metadata": {},
   "outputs": [
    {
     "data": {
      "text/plain": [
       "array([1, 2, 6, 7])"
      ]
     },
     "execution_count": 70,
     "metadata": {},
     "output_type": "execute_result"
    }
   ],
   "source": [
    "np.setxor1d(m,n)"
   ]
  },
  {
   "cell_type": "code",
   "execution_count": 71,
   "id": "c744c22e",
   "metadata": {},
   "outputs": [
    {
     "data": {
      "text/plain": [
       "array([ True, False, False, False, False])"
      ]
     },
     "execution_count": 71,
     "metadata": {},
     "output_type": "execute_result"
    }
   ],
   "source": [
    "np.in1d(m,1)"
   ]
  },
  {
   "cell_type": "code",
   "execution_count": 72,
   "id": "9c9423f8",
   "metadata": {},
   "outputs": [
    {
     "data": {
      "text/plain": [
       "array([False,  True, False, False, False])"
      ]
     },
     "execution_count": 72,
     "metadata": {},
     "output_type": "execute_result"
    }
   ],
   "source": [
    "np.in1d(n,4)"
   ]
  },
  {
   "cell_type": "markdown",
   "id": "f9dc3073",
   "metadata": {},
   "source": [
    "### np.clip\n",
    "* numpy.clip() function is used to Clip (limit) the values in an array.\n",
    "* **reference :** https://numpy.org/doc/stable/reference/generated/numpy.clip.html"
   ]
  },
  {
   "cell_type": "code",
   "execution_count": 73,
   "id": "f0c39df1",
   "metadata": {},
   "outputs": [
    {
     "data": {
      "text/plain": [
       "array([78, 83, 94, 86, 13, 27,  9, 88, 58, 38, 98, 81,  1, 13, 95])"
      ]
     },
     "execution_count": 73,
     "metadata": {},
     "output_type": "execute_result"
    }
   ],
   "source": [
    "a = np.random.randint(1,100,15)\n",
    "a"
   ]
  },
  {
   "cell_type": "code",
   "execution_count": 74,
   "id": "e85657f4",
   "metadata": {},
   "outputs": [
    {
     "data": {
      "text/plain": [
       "array([75, 75, 75, 75, 25, 27, 25, 75, 58, 38, 75, 75, 25, 25, 75])"
      ]
     },
     "execution_count": 74,
     "metadata": {},
     "output_type": "execute_result"
    }
   ],
   "source": [
    "np.clip(a, a_min=25, a_max=75)"
   ]
  },
  {
   "cell_type": "markdown",
   "id": "05a013c9",
   "metadata": {},
   "source": [
    "### np.swapaxes"
   ]
  },
  {
   "cell_type": "markdown",
   "id": "a41a5c89",
   "metadata": {},
   "source": [
    "### np.uniform"
   ]
  },
  {
   "cell_type": "markdown",
   "id": "8a0ca6d1",
   "metadata": {},
   "source": [
    "### np.count_nonzero"
   ]
  },
  {
   "cell_type": "markdown",
   "id": "ceed0a6d",
   "metadata": {},
   "source": [
    "### np.tile\n",
    "* **reference :** https://www.kaggle.com/code/abhayparashar31/best-numpy-functions-for-data-science-50?scriptVersionId=98816580"
   ]
  },
  {
   "cell_type": "markdown",
   "id": "e48114bf",
   "metadata": {},
   "source": [
    "###  np.repeat\n",
    "* **reference :** https://towardsdatascience.com/10-numpy-functions-you-should-know-1dc4863764c5"
   ]
  },
  {
   "cell_type": "markdown",
   "id": "cff0e83b",
   "metadata": {},
   "source": [
    "### np.allclose and equals"
   ]
  },
  {
   "cell_type": "code",
   "execution_count": null,
   "id": "66ae02c3",
   "metadata": {},
   "outputs": [],
   "source": []
  }
 ],
 "metadata": {
  "kernelspec": {
   "display_name": "Python 3 (ipykernel)",
   "language": "python",
   "name": "python3"
  },
  "language_info": {
   "codemirror_mode": {
    "name": "ipython",
    "version": 3
   },
   "file_extension": ".py",
   "mimetype": "text/x-python",
   "name": "python",
   "nbconvert_exporter": "python",
   "pygments_lexer": "ipython3",
   "version": "3.9.13"
  }
 },
 "nbformat": 4,
 "nbformat_minor": 5
}

{
 "cells": [
  {
   "cell_type": "markdown",
   "id": "e8ecda48",
   "metadata": {},
   "source": [
    "https://numpy.org/doc/stable/reference/generated/numpy.ndarray.itemsize.html"
   ]
  },
  {
   "cell_type": "markdown",
   "id": "2baa5254",
   "metadata": {},
   "source": [
    "https://jakevdp.github.io/PythonDataScienceHandbook/04.12-three-dimensional-plotting.html"
   ]
  },
  {
   "cell_type": "markdown",
   "id": "b121d03b",
   "metadata": {},
   "source": [
    "# What is Numpy ?\n",
    "\n",
    "* NumPy was created in 2005 by Travis Oliphant. It is an open source project and you can use it freely. NumPy stands for **Numerical Python.**\n",
    "* NumPy is the fundamental package for scientific computing in Python. It is a Python library that provides a multidimensional array object, various derived objects (such as masked arrays and matrices), and an assortment of routines for fast operations on arrays, including mathematical, logical, shape manipulation, sorting, selecting, I/O, discrete Fourier transforms, basic linear algebra, basic statistical operations, random simulation and much more.\n",
    "* At the core of the NumPy package, is the ndarray object. This encapsulates n-dimensional arrays of homogeneous data types\n",
    "* NumPy is a Python library and is written partially in Python, but most of the parts that require fast computation are written in C or C++.\n",
    "\n",
    "## Numpy Array Basics (ndarrays)\n",
    "\n",
    "* In Python we have lists that serve the purpose of arrays, but they are slow to process. NumPy aims to provide an array object that is up to 50x faster than traditional Python lists. The array object in NumPy is called ndarray, it provides a lot of supporting functions that make working with ndarray very easy. Arrays are very frequently used in data science, where speed and resources are very important.\n",
    "* Arrays in NumPy are synonymous with lists in Python with a homogenous nature. The homogeneity helps to perform smoother mathematical operations.\n",
    "* These arrays are mutable. NumPy is useful to perform basic operations like finding the dimensions, the bite-size, and also the data types of elements of the array.\n",
    "\n",
    "## Why is NumPy Faster Than Lists?\n",
    "\n",
    "* NumPy arrays are stored at one continuous place in memory unlike lists, so processes can access and manipulate them very efficiently. This behavior is called locality of reference in computer science. This is the main reason why NumPy is faster than lists. Also it is optimized to work with latest CPU architectures."
   ]
  },
  {
   "cell_type": "markdown",
   "id": "efc8224f",
   "metadata": {},
   "source": [
    "## 1. Creating Numpy Arrays/N-D arrays\n",
    ">* To create an ndarray, we can pass a list, tuple or any array-like object into the array() method, and it will be converted into an ndarray:"
   ]
  },
  {
   "cell_type": "code",
   "execution_count": 1,
   "id": "2eea026c",
   "metadata": {},
   "outputs": [
    {
     "data": {
      "text/plain": [
       "'it is a syntax to include the exeternal libraries \\ninto your code or current working file'"
      ]
     },
     "execution_count": 1,
     "metadata": {},
     "output_type": "execute_result"
    }
   ],
   "source": [
    "import numpy as np\n",
    "'''it is a syntax to include the exeternal libraries \n",
    "into your code or current working file'''"
   ]
  },
  {
   "cell_type": "code",
   "execution_count": 2,
   "id": "050a5a8f",
   "metadata": {},
   "outputs": [
    {
     "name": "stdout",
     "output_type": "stream",
     "text": [
      "1.21.5\n"
     ]
    }
   ],
   "source": [
    "print(np.__version__) \n",
    "#check numpy version"
   ]
  },
  {
   "cell_type": "markdown",
   "id": "7f404dab",
   "metadata": {},
   "source": [
    ">* first way of creating a nd-array in numpy\n",
    ">* np.array()"
   ]
  },
  {
   "cell_type": "code",
   "execution_count": 3,
   "id": "1edea1ac",
   "metadata": {
    "scrolled": true
   },
   "outputs": [
    {
     "data": {
      "text/plain": [
       "array([1, 2, 3, 4, 5])"
      ]
     },
     "execution_count": 3,
     "metadata": {},
     "output_type": "execute_result"
    }
   ],
   "source": [
    "# here we are creating a nd array from list \n",
    "arr1=np.array([1,2,3,4,5])\n",
    "# checking data type of arr1\n",
    "arr1"
   ]
  },
  {
   "cell_type": "code",
   "execution_count": 4,
   "id": "2dd75de0",
   "metadata": {},
   "outputs": [
    {
     "data": {
      "text/plain": [
       "numpy.ndarray"
      ]
     },
     "execution_count": 4,
     "metadata": {},
     "output_type": "execute_result"
    }
   ],
   "source": [
    "type(arr1)"
   ]
  },
  {
   "cell_type": "code",
   "execution_count": 5,
   "id": "1b23474a",
   "metadata": {},
   "outputs": [
    {
     "name": "stdout",
     "output_type": "stream",
     "text": [
      "[1 2 3 4 5]\n"
     ]
    }
   ],
   "source": [
    "# we are using tuple to create numpy array\n",
    "arr2 = np.array((1, 2, 3, 4, 5))\n",
    "print(arr2)"
   ]
  },
  {
   "cell_type": "code",
   "execution_count": 6,
   "id": "1dc6994a",
   "metadata": {},
   "outputs": [
    {
     "data": {
      "text/plain": [
       "array([[1, 2, 3],\n",
       "       [4, 5, 6]])"
      ]
     },
     "execution_count": 6,
     "metadata": {},
     "output_type": "execute_result"
    }
   ],
   "source": [
    "# 2D ndarray\n",
    "arr3=np.array([[1,2,3],[4,5,6]])\n",
    "arr3"
   ]
  },
  {
   "cell_type": "markdown",
   "id": "eb1729aa",
   "metadata": {},
   "source": [
    ">* using dtype to cahnge the data type of the given data"
   ]
  },
  {
   "cell_type": "code",
   "execution_count": 7,
   "id": "0433aee5",
   "metadata": {
    "scrolled": false
   },
   "outputs": [
    {
     "name": "stdout",
     "output_type": "stream",
     "text": [
      "[1. 2. 3. 4. 5.]\n"
     ]
    }
   ],
   "source": [
    "arr4 = np.array([1,2,3,4,5], dtype=float)\n",
    "print(arr4)"
   ]
  },
  {
   "cell_type": "code",
   "execution_count": 8,
   "id": "2a26cf97",
   "metadata": {},
   "outputs": [
    {
     "name": "stdout",
     "output_type": "stream",
     "text": [
      "[False  True  True  True  True  True]\n"
     ]
    }
   ],
   "source": [
    "arr5 = np.array([0,1,2,3,4,5], dtype=bool)\n",
    "print(arr5)"
   ]
  },
  {
   "cell_type": "code",
   "execution_count": 9,
   "id": "e542f9f4",
   "metadata": {},
   "outputs": [
    {
     "name": "stdout",
     "output_type": "stream",
     "text": [
      "[1.+0.j 2.+0.j 3.+0.j 4.+0.j 5.+0.j]\n"
     ]
    }
   ],
   "source": [
    "arr6 = np.array([1,2,3,4,5], dtype=complex)\n",
    "print(arr6)"
   ]
  },
  {
   "cell_type": "markdown",
   "id": "b09b983b",
   "metadata": {},
   "source": [
    ">* creating ndarray with np.arange()"
   ]
  },
  {
   "cell_type": "code",
   "execution_count": 10,
   "id": "bd61876e",
   "metadata": {},
   "outputs": [
    {
     "data": {
      "text/plain": [
       "array([0, 1, 2, 3, 4, 5, 6, 7, 8, 9])"
      ]
     },
     "execution_count": 10,
     "metadata": {},
     "output_type": "execute_result"
    }
   ],
   "source": [
    "arr7=np.arange(10)\n",
    "arr7\n",
    "# range function will generate a \"list\" in a given range\n",
    "# arange function will generate a \"array\" in a given range"
   ]
  },
  {
   "cell_type": "code",
   "execution_count": 11,
   "id": "121ead0f",
   "metadata": {},
   "outputs": [
    {
     "data": {
      "text/plain": [
       "array([10, 11, 12, 13, 14, 15, 16, 17, 18, 19, 20])"
      ]
     },
     "execution_count": 11,
     "metadata": {},
     "output_type": "execute_result"
    }
   ],
   "source": [
    "arr8=np.arange(10,21)\n",
    "arr8"
   ]
  },
  {
   "cell_type": "code",
   "execution_count": 12,
   "id": "96ac28f6",
   "metadata": {},
   "outputs": [
    {
     "data": {
      "text/plain": [
       "array([10, 12, 14, 16, 18, 20])"
      ]
     },
     "execution_count": 12,
     "metadata": {},
     "output_type": "execute_result"
    }
   ],
   "source": [
    "arr9=np.arange(10,21,2)\n",
    "arr9"
   ]
  },
  {
   "cell_type": "markdown",
   "id": "1a655d9d",
   "metadata": {},
   "source": [
    ">* np.zeros(('order of the array'))\n",
    ">* used in initialising the values"
   ]
  },
  {
   "cell_type": "code",
   "execution_count": 13,
   "id": "f6df1ee8",
   "metadata": {},
   "outputs": [
    {
     "name": "stdout",
     "output_type": "stream",
     "text": [
      "[[0 0 0 0]\n",
      " [0 0 0 0]\n",
      " [0 0 0 0]]\n"
     ]
    }
   ],
   "source": [
    "a = np.zeros((3,4),dtype=(np.int32))\n",
    "print(a)"
   ]
  },
  {
   "cell_type": "markdown",
   "id": "cd4a1218",
   "metadata": {},
   "source": [
    ">* np.ones(('order of the array'))\n",
    ">* it is usefull to initialise the value in the neural network"
   ]
  },
  {
   "cell_type": "code",
   "execution_count": 14,
   "id": "9626475a",
   "metadata": {},
   "outputs": [
    {
     "data": {
      "text/plain": [
       "array([[1., 1., 1., 1.],\n",
       "       [1., 1., 1., 1.],\n",
       "       [1., 1., 1., 1.],\n",
       "       [1., 1., 1., 1.]])"
      ]
     },
     "execution_count": 14,
     "metadata": {},
     "output_type": "execute_result"
    }
   ],
   "source": [
    "b=np.ones((4,4))\n",
    "b"
   ]
  },
  {
   "cell_type": "markdown",
   "id": "eeae7fff",
   "metadata": {},
   "source": [
    ">* np.identity()\n",
    ">* to create the identity matrix"
   ]
  },
  {
   "cell_type": "code",
   "execution_count": 15,
   "id": "dee9f80e",
   "metadata": {},
   "outputs": [
    {
     "data": {
      "text/plain": [
       "array([[1., 0., 0., 0., 0.],\n",
       "       [0., 1., 0., 0., 0.],\n",
       "       [0., 0., 1., 0., 0.],\n",
       "       [0., 0., 0., 1., 0.],\n",
       "       [0., 0., 0., 0., 1.]])"
      ]
     },
     "execution_count": 15,
     "metadata": {},
     "output_type": "execute_result"
    }
   ],
   "source": [
    "c=np.identity(5)\n",
    "c\n",
    "# it is an identity matrix"
   ]
  },
  {
   "cell_type": "markdown",
   "id": "f51bf192",
   "metadata": {},
   "source": [
    ">* np.random()\n",
    ">* it will generate the random numbers between 0 to 1"
   ]
  },
  {
   "cell_type": "code",
   "execution_count": 16,
   "id": "0b9fe706",
   "metadata": {},
   "outputs": [
    {
     "data": {
      "text/plain": [
       "array([[0.56296356, 0.37307675, 0.02060265, 0.22479343, 0.97809145],\n",
       "       [0.05267386, 0.37339304, 0.34442187, 0.94306163, 0.09131538],\n",
       "       [0.44367886, 0.56904832, 0.74709168, 0.58898636, 0.13390639],\n",
       "       [0.17425607, 0.04875341, 0.94199665, 0.92738867, 0.46429853]])"
      ]
     },
     "execution_count": 16,
     "metadata": {},
     "output_type": "execute_result"
    }
   ],
   "source": [
    "d = np.random.random((4,5))\n",
    "d"
   ]
  },
  {
   "cell_type": "markdown",
   "id": "d7b4cc0d",
   "metadata": {},
   "source": [
    ">* np.linspace()\n",
    ">* linspace needs 3 parameters - upper range,lower range and spaced values"
   ]
  },
  {
   "cell_type": "code",
   "execution_count": 17,
   "id": "4b4b5d7a",
   "metadata": {
    "scrolled": false
   },
   "outputs": [
    {
     "data": {
      "text/plain": [
       "array([10.        , 10.1010101 , 10.2020202 , 10.3030303 , 10.4040404 ,\n",
       "       10.50505051, 10.60606061, 10.70707071, 10.80808081, 10.90909091,\n",
       "       11.01010101, 11.11111111, 11.21212121, 11.31313131, 11.41414141,\n",
       "       11.51515152, 11.61616162, 11.71717172, 11.81818182, 11.91919192,\n",
       "       12.02020202, 12.12121212, 12.22222222, 12.32323232, 12.42424242,\n",
       "       12.52525253, 12.62626263, 12.72727273, 12.82828283, 12.92929293,\n",
       "       13.03030303, 13.13131313, 13.23232323, 13.33333333, 13.43434343,\n",
       "       13.53535354, 13.63636364, 13.73737374, 13.83838384, 13.93939394,\n",
       "       14.04040404, 14.14141414, 14.24242424, 14.34343434, 14.44444444,\n",
       "       14.54545455, 14.64646465, 14.74747475, 14.84848485, 14.94949495,\n",
       "       15.05050505, 15.15151515, 15.25252525, 15.35353535, 15.45454545,\n",
       "       15.55555556, 15.65656566, 15.75757576, 15.85858586, 15.95959596,\n",
       "       16.06060606, 16.16161616, 16.26262626, 16.36363636, 16.46464646,\n",
       "       16.56565657, 16.66666667, 16.76767677, 16.86868687, 16.96969697,\n",
       "       17.07070707, 17.17171717, 17.27272727, 17.37373737, 17.47474747,\n",
       "       17.57575758, 17.67676768, 17.77777778, 17.87878788, 17.97979798,\n",
       "       18.08080808, 18.18181818, 18.28282828, 18.38383838, 18.48484848,\n",
       "       18.58585859, 18.68686869, 18.78787879, 18.88888889, 18.98989899,\n",
       "       19.09090909, 19.19191919, 19.29292929, 19.39393939, 19.49494949,\n",
       "       19.5959596 , 19.6969697 , 19.7979798 , 19.8989899 , 20.        ])"
      ]
     },
     "execution_count": 17,
     "metadata": {},
     "output_type": "execute_result"
    }
   ],
   "source": [
    "e=np.linspace(10,20,100)\n",
    "e\n",
    "# explore more about the linspace function\n",
    "# linspace = linearly spaced"
   ]
  },
  {
   "cell_type": "code",
   "execution_count": 18,
   "id": "2ebad493",
   "metadata": {
    "scrolled": true
   },
   "outputs": [
    {
     "data": {
      "text/plain": [
       "array([10.        , 10.1010101 , 10.2020202 , 10.3030303 , 10.4040404 ,\n",
       "       10.50505051, 10.60606061, 10.70707071, 10.80808081, 10.90909091,\n",
       "       11.01010101, 11.11111111, 11.21212121, 11.31313131, 11.41414141,\n",
       "       11.51515152, 11.61616162, 11.71717172, 11.81818182, 11.91919192,\n",
       "       12.02020202, 12.12121212, 12.22222222, 12.32323232, 12.42424242,\n",
       "       12.52525253, 12.62626263, 12.72727273, 12.82828283, 12.92929293,\n",
       "       13.03030303, 13.13131313, 13.23232323, 13.33333333, 13.43434343,\n",
       "       13.53535354, 13.63636364, 13.73737374, 13.83838384, 13.93939394,\n",
       "       14.04040404, 14.14141414, 14.24242424, 14.34343434, 14.44444444,\n",
       "       14.54545455, 14.64646465, 14.74747475, 14.84848485, 14.94949495,\n",
       "       15.05050505, 15.15151515, 15.25252525, 15.35353535, 15.45454545,\n",
       "       15.55555556, 15.65656566, 15.75757576, 15.85858586, 15.95959596,\n",
       "       16.06060606, 16.16161616, 16.26262626, 16.36363636, 16.46464646,\n",
       "       16.56565657, 16.66666667, 16.76767677, 16.86868687, 16.96969697,\n",
       "       17.07070707, 17.17171717, 17.27272727, 17.37373737, 17.47474747,\n",
       "       17.57575758, 17.67676768, 17.77777778, 17.87878788, 17.97979798,\n",
       "       18.08080808, 18.18181818, 18.28282828, 18.38383838, 18.48484848,\n",
       "       18.58585859, 18.68686869, 18.78787879, 18.88888889, 18.98989899,\n",
       "       19.09090909, 19.19191919, 19.29292929, 19.39393939, 19.49494949,\n",
       "       19.5959596 , 19.6969697 , 19.7979798 , 19.8989899 , 20.        ])"
      ]
     },
     "execution_count": 18,
     "metadata": {},
     "output_type": "execute_result"
    }
   ],
   "source": [
    "g=e.copy()\n",
    "g"
   ]
  },
  {
   "cell_type": "code",
   "execution_count": 19,
   "id": "494a0b32",
   "metadata": {},
   "outputs": [
    {
     "data": {
      "text/plain": [
       "array([10, 11, 12, 13, 14, 15, 16, 17, 18, 20])"
      ]
     },
     "execution_count": 19,
     "metadata": {},
     "output_type": "execute_result"
    }
   ],
   "source": [
    "f=np.linspace(10,20,10, dtype=int)\n",
    "f"
   ]
  },
  {
   "cell_type": "markdown",
   "id": "f464a9de",
   "metadata": {},
   "source": [
    ">* np.empty()\n",
    ">>* The .empty() function creates an array with empty values \n",
    ">* np.full()\n",
    ">>* and the full() function creates an n*n array with the given value."
   ]
  },
  {
   "cell_type": "code",
   "execution_count": 20,
   "id": "35b69880",
   "metadata": {},
   "outputs": [
    {
     "name": "stdout",
     "output_type": "stream",
     "text": [
      "arr15 is :  [[0. 0. 0.]\n",
      " [0. 0. 0.]]\n",
      "arr16 is :  [[3 3]\n",
      " [3 3]]\n"
     ]
    }
   ],
   "source": [
    "arr15=np.empty((2,3))\n",
    "print(\"arr15 is : \",arr15)\n",
    "arr16=np.full((2,2), 3)\n",
    "print(\"arr16 is : \",arr16)"
   ]
  },
  {
   "cell_type": "markdown",
   "id": "d10b960a",
   "metadata": {},
   "source": [
    "* **Note :** by default numpy arrays will create a floating values"
   ]
  },
  {
   "cell_type": "markdown",
   "id": "a62a0883",
   "metadata": {},
   "source": [
    "## 2. Numpy Array Properties and Attributes\n",
    "1. Shape \n",
    "2. nDim\n",
    "3. Size\n",
    "4. Itemsize\n",
    "5. Dtype\n",
    "6. astype()"
   ]
  },
  {
   "cell_type": "code",
   "execution_count": 21,
   "id": "a2408489",
   "metadata": {},
   "outputs": [
    {
     "name": "stdout",
     "output_type": "stream",
     "text": [
      "[0 1 2 3 4 5 6 7 8 9]\n",
      "[[ 0.  1.  2.  3.]\n",
      " [ 4.  5.  6.  7.]\n",
      " [ 8.  9. 10. 11.]]\n",
      "[[[0 1]\n",
      "  [2 3]]\n",
      "\n",
      " [[4 5]\n",
      "  [6 7]]]\n"
     ]
    }
   ],
   "source": [
    "a1 = np.arange(10)\n",
    "a2 = np.arange(12,dtype=float).reshape(3,4)\n",
    "a3 = np.arange(8).reshape(2,2,2)\n",
    "\n",
    "print(a1)\n",
    "print(a2)\n",
    "print(a3)"
   ]
  },
  {
   "cell_type": "markdown",
   "id": "d0aa06e6",
   "metadata": {},
   "source": [
    "### 1  .shape"
   ]
  },
  {
   "cell_type": "code",
   "execution_count": 22,
   "id": "7e727d54",
   "metadata": {},
   "outputs": [
    {
     "data": {
      "text/plain": [
       "(10,)"
      ]
     },
     "execution_count": 22,
     "metadata": {},
     "output_type": "execute_result"
    }
   ],
   "source": [
    "a1.shape\n",
    "# here shape is the attribute so we will not use tha brackets ()\n",
    "# shape is an attribute or characteristic of the array"
   ]
  },
  {
   "cell_type": "code",
   "execution_count": 23,
   "id": "66a4e381",
   "metadata": {
    "scrolled": true
   },
   "outputs": [
    {
     "data": {
      "text/plain": [
       "(3, 4)"
      ]
     },
     "execution_count": 23,
     "metadata": {},
     "output_type": "execute_result"
    }
   ],
   "source": [
    "a2.shape"
   ]
  },
  {
   "cell_type": "code",
   "execution_count": 24,
   "id": "4be60fd9",
   "metadata": {},
   "outputs": [
    {
     "name": "stdout",
     "output_type": "stream",
     "text": [
      "(2, 2, 2)\n"
     ]
    },
    {
     "data": {
      "text/plain": [
       "array([[[0, 1],\n",
       "        [2, 3]],\n",
       "\n",
       "       [[4, 5],\n",
       "        [6, 7]]])"
      ]
     },
     "execution_count": 24,
     "metadata": {},
     "output_type": "execute_result"
    }
   ],
   "source": [
    "print(a3.shape)\n",
    "a3\n",
    "# here a3 array is made up of 2 2D arrays\n",
    "# and each 2D array is made up of 2 1D arrays"
   ]
  },
  {
   "cell_type": "code",
   "execution_count": 25,
   "id": "50528652",
   "metadata": {},
   "outputs": [
    {
     "data": {
      "text/plain": [
       "array([[[1, 2],\n",
       "        [3, 4]],\n",
       "\n",
       "       [[5, 6],\n",
       "        [7, 8]]])"
      ]
     },
     "execution_count": 25,
     "metadata": {},
     "output_type": "execute_result"
    }
   ],
   "source": [
    "arr9=np.array([[[1,2],[3,4]],[[5,6],[7,8]]])\n",
    "arr9"
   ]
  },
  {
   "cell_type": "code",
   "execution_count": 26,
   "id": "2948f4b6",
   "metadata": {},
   "outputs": [
    {
     "data": {
      "text/plain": [
       "(2, 2, 2)"
      ]
     },
     "execution_count": 26,
     "metadata": {},
     "output_type": "execute_result"
    }
   ],
   "source": [
    "arr9.shape\n",
    "# it's a three dimensional matrix\n",
    "# explore about the three dimensional matrix how does it look"
   ]
  },
  {
   "cell_type": "markdown",
   "id": "ba2178f7",
   "metadata": {},
   "source": [
    "### 2  .ndim\n",
    "to get the dimensions of the ndarray"
   ]
  },
  {
   "cell_type": "code",
   "execution_count": 27,
   "id": "4e687d4f",
   "metadata": {},
   "outputs": [
    {
     "data": {
      "text/plain": [
       "3"
      ]
     },
     "execution_count": 27,
     "metadata": {},
     "output_type": "execute_result"
    }
   ],
   "source": [
    "a3.ndim\n",
    "# three dimensinal"
   ]
  },
  {
   "cell_type": "code",
   "execution_count": 28,
   "id": "d488a5e1",
   "metadata": {},
   "outputs": [
    {
     "data": {
      "text/plain": [
       "2"
      ]
     },
     "execution_count": 28,
     "metadata": {},
     "output_type": "execute_result"
    }
   ],
   "source": [
    "a2.ndim\n",
    "# 2 dimensional"
   ]
  },
  {
   "cell_type": "code",
   "execution_count": 29,
   "id": "378da735",
   "metadata": {},
   "outputs": [
    {
     "data": {
      "text/plain": [
       "1"
      ]
     },
     "execution_count": 29,
     "metadata": {},
     "output_type": "execute_result"
    }
   ],
   "source": [
    "a1.ndim\n",
    "# 1 dimensional"
   ]
  },
  {
   "cell_type": "code",
   "execution_count": 30,
   "id": "2ea29c77",
   "metadata": {},
   "outputs": [
    {
     "name": "stdout",
     "output_type": "stream",
     "text": [
      "[[[[[1 2 3 4 5]]]]]\n",
      "number of dimensions : 5\n"
     ]
    }
   ],
   "source": [
    "#Create an array with 5 dimensions and verify that it has 5 dimensions:\n",
    "arr = np.array([1,2,3,4,5], ndmin=5)\n",
    "print(arr)\n",
    "print('number of dimensions :', arr.ndim)"
   ]
  },
  {
   "cell_type": "markdown",
   "id": "921c4522",
   "metadata": {},
   "source": [
    "note:\n",
    "* reason why functions has a bracket is because it always asks any sort of input from the user which will be processed by that function and then will provide the output whereas attributes do not have brackets, it directly gives the output\n",
    "* if function is in use then we will use the bracket\n",
    "* where as if the attribute of the function is being used then we will not use the bracket"
   ]
  },
  {
   "cell_type": "markdown",
   "id": "f1bec154",
   "metadata": {},
   "source": [
    "### 3   .size\n",
    "Number of elements in the array."
   ]
  },
  {
   "cell_type": "code",
   "execution_count": 31,
   "id": "0b59170e",
   "metadata": {},
   "outputs": [
    {
     "name": "stdout",
     "output_type": "stream",
     "text": [
      "[0 1 2 3 4 5 6 7 8 9]\n"
     ]
    },
    {
     "data": {
      "text/plain": [
       "10"
      ]
     },
     "execution_count": 31,
     "metadata": {},
     "output_type": "execute_result"
    }
   ],
   "source": [
    "print(a1)\n",
    "a1.size\n",
    "# number of items = size"
   ]
  },
  {
   "cell_type": "code",
   "execution_count": 32,
   "id": "00c8c68b",
   "metadata": {},
   "outputs": [
    {
     "name": "stdout",
     "output_type": "stream",
     "text": [
      "[[ 0.  1.  2.  3.]\n",
      " [ 4.  5.  6.  7.]\n",
      " [ 8.  9. 10. 11.]]\n"
     ]
    },
    {
     "data": {
      "text/plain": [
       "12"
      ]
     },
     "execution_count": 32,
     "metadata": {},
     "output_type": "execute_result"
    }
   ],
   "source": [
    "print(a2)\n",
    "a2.size"
   ]
  },
  {
   "cell_type": "code",
   "execution_count": 33,
   "id": "c374ae38",
   "metadata": {},
   "outputs": [
    {
     "name": "stdout",
     "output_type": "stream",
     "text": [
      "[[[0 1]\n",
      "  [2 3]]\n",
      "\n",
      " [[4 5]\n",
      "  [6 7]]]\n"
     ]
    },
    {
     "data": {
      "text/plain": [
       "8"
      ]
     },
     "execution_count": 33,
     "metadata": {},
     "output_type": "execute_result"
    }
   ],
   "source": [
    "print(a3)\n",
    "a3.size\n",
    "# here number of items are 8"
   ]
  },
  {
   "cell_type": "markdown",
   "id": "7360dc42",
   "metadata": {},
   "source": [
    "### 4  .itemsize\n",
    "* This attribute gives the memory size of one element of NumPy array in bytes.\n",
    "* Length of one array element in bytes."
   ]
  },
  {
   "cell_type": "code",
   "execution_count": 34,
   "id": "44350546",
   "metadata": {},
   "outputs": [
    {
     "name": "stdout",
     "output_type": "stream",
     "text": [
      "[0 1 2 3 4 5 6 7 8 9]\n"
     ]
    },
    {
     "data": {
      "text/plain": [
       "4"
      ]
     },
     "execution_count": 34,
     "metadata": {},
     "output_type": "execute_result"
    }
   ],
   "source": [
    "print(a1)\n",
    "a1.itemsize"
   ]
  },
  {
   "cell_type": "code",
   "execution_count": 35,
   "id": "4727a60c",
   "metadata": {},
   "outputs": [
    {
     "data": {
      "text/plain": [
       "8"
      ]
     },
     "execution_count": 35,
     "metadata": {},
     "output_type": "execute_result"
    }
   ],
   "source": [
    "a2.itemsize\n",
    "# size of float will be more"
   ]
  },
  {
   "cell_type": "code",
   "execution_count": 36,
   "id": "9f2d3593",
   "metadata": {},
   "outputs": [
    {
     "data": {
      "text/plain": [
       "4"
      ]
     },
     "execution_count": 36,
     "metadata": {},
     "output_type": "execute_result"
    }
   ],
   "source": [
    "a3.itemsize\n",
    "# size of integer will be less"
   ]
  },
  {
   "cell_type": "code",
   "execution_count": 37,
   "id": "4b3032a2",
   "metadata": {},
   "outputs": [
    {
     "data": {
      "text/plain": [
       "array([[[0.+0.j, 0.+0.j],\n",
       "        [0.+0.j, 0.+0.j],\n",
       "        [0.+0.j, 0.+0.j],\n",
       "        [0.+0.j, 0.+0.j],\n",
       "        [0.+0.j, 0.+0.j]],\n",
       "\n",
       "       [[0.+0.j, 0.+0.j],\n",
       "        [0.+0.j, 0.+0.j],\n",
       "        [0.+0.j, 0.+0.j],\n",
       "        [0.+0.j, 0.+0.j],\n",
       "        [0.+0.j, 0.+0.j]],\n",
       "\n",
       "       [[0.+0.j, 0.+0.j],\n",
       "        [0.+0.j, 0.+0.j],\n",
       "        [0.+0.j, 0.+0.j],\n",
       "        [0.+0.j, 0.+0.j],\n",
       "        [0.+0.j, 0.+0.j]]])"
      ]
     },
     "execution_count": 37,
     "metadata": {},
     "output_type": "execute_result"
    }
   ],
   "source": [
    "x = np.zeros((3, 5, 2), dtype=np.complex128)\n",
    "x"
   ]
  },
  {
   "cell_type": "code",
   "execution_count": 38,
   "id": "17605780",
   "metadata": {},
   "outputs": [
    {
     "data": {
      "text/plain": [
       "30"
      ]
     },
     "execution_count": 38,
     "metadata": {},
     "output_type": "execute_result"
    }
   ],
   "source": [
    "x.size\n",
    "# total number of items"
   ]
  },
  {
   "cell_type": "code",
   "execution_count": 39,
   "id": "5e050c2c",
   "metadata": {},
   "outputs": [
    {
     "data": {
      "text/plain": [
       "16"
      ]
     },
     "execution_count": 39,
     "metadata": {},
     "output_type": "execute_result"
    }
   ],
   "source": [
    "x.itemsize\n",
    "# memory occupation of elements"
   ]
  },
  {
   "cell_type": "markdown",
   "id": "6e49bb0c",
   "metadata": {},
   "source": [
    "### 5 .dtype"
   ]
  },
  {
   "cell_type": "markdown",
   "id": "2b535c55",
   "metadata": {},
   "source": [
    "### Data Types in NumPy\n",
    "* NumPy has some extra data types, and refer to data types with one character, like i for integers, u for unsigned integers etc.\n",
    "* Below is a list of all data types in NumPy and the characters used to represent them.\n",
    "1. i - integer\n",
    "2. b - boolean \n",
    "3. u - unsigned integer \n",
    "4. f - float \n",
    "5. c - complex float \n",
    "6. m - timedelta \n",
    "7. M - datetime \n",
    "8. O - object \n",
    "9. S - string \n",
    "10. U - unicode string \n",
    "11. V - fixed chunk of memory for other type ( void )"
   ]
  },
  {
   "cell_type": "code",
   "execution_count": 40,
   "id": "7b6113c5",
   "metadata": {},
   "outputs": [
    {
     "data": {
      "text/plain": [
       "dtype('int32')"
      ]
     },
     "execution_count": 40,
     "metadata": {},
     "output_type": "execute_result"
    }
   ],
   "source": [
    "a1.dtype"
   ]
  },
  {
   "cell_type": "code",
   "execution_count": 41,
   "id": "6882d8b3",
   "metadata": {},
   "outputs": [
    {
     "data": {
      "text/plain": [
       "dtype('float64')"
      ]
     },
     "execution_count": 41,
     "metadata": {},
     "output_type": "execute_result"
    }
   ],
   "source": [
    "a2.dtype"
   ]
  },
  {
   "cell_type": "code",
   "execution_count": 42,
   "id": "ac72f417",
   "metadata": {},
   "outputs": [
    {
     "data": {
      "text/plain": [
       "dtype('int32')"
      ]
     },
     "execution_count": 42,
     "metadata": {},
     "output_type": "execute_result"
    }
   ],
   "source": [
    "a3.dtype"
   ]
  },
  {
   "cell_type": "code",
   "execution_count": 43,
   "id": "e844c907",
   "metadata": {
    "scrolled": true
   },
   "outputs": [
    {
     "name": "stdout",
     "output_type": "stream",
     "text": [
      "['1' '2' '3' '4']\n",
      "<U1\n"
     ]
    }
   ],
   "source": [
    "#create a array with data type unicode stirng :\n",
    "arr = np.array([1, 2, 3, 4], dtype=str)\n",
    "print(arr)\n",
    "print(arr.dtype)"
   ]
  },
  {
   "cell_type": "code",
   "execution_count": 44,
   "id": "e8c4eb46",
   "metadata": {},
   "outputs": [
    {
     "name": "stdout",
     "output_type": "stream",
     "text": [
      "[1.+0.j 2.+0.j 3.+0.j 4.+0.j]\n",
      "complex128\n"
     ]
    }
   ],
   "source": [
    "#Create an array with data type complex:\n",
    "arr1 = np.array([1, 2, 3, 4], dtype=complex)\n",
    "print(arr1)\n",
    "print(arr1.dtype)"
   ]
  },
  {
   "cell_type": "markdown",
   "id": "69049bbc",
   "metadata": {},
   "source": [
    "### 6 .astype\n",
    "* if you want then you can convert a type of data inside a numpy array"
   ]
  },
  {
   "cell_type": "markdown",
   "id": "09b8853c",
   "metadata": {},
   "source": [
    "#### Converting Data Type on Existing Arrays\n",
    "* The best way to change the data type of an existing array, is to make a copy of the array with the astype() method.\n",
    "* The astype() function creates a copy of the array, and allows you to specify the data type as a parameter. The data type can be specified using a string, like 'f' for float, 'i' for integer etc. or you can use the data type directly like float for float and int for integer"
   ]
  },
  {
   "cell_type": "code",
   "execution_count": 45,
   "id": "db633eb5",
   "metadata": {},
   "outputs": [
    {
     "name": "stdout",
     "output_type": "stream",
     "text": [
      "[[[1 2]\n",
      "  [3 4]]\n",
      "\n",
      " [[5 6]\n",
      "  [7 8]]]\n"
     ]
    }
   ],
   "source": [
    "arr9=np.array([[[1,2],[3,4]],[[5,6],[7,8]]])\n",
    "print(arr9)"
   ]
  },
  {
   "cell_type": "code",
   "execution_count": 46,
   "id": "8f4d935d",
   "metadata": {},
   "outputs": [
    {
     "name": "stdout",
     "output_type": "stream",
     "text": [
      "[[[1. 2.]\n",
      "  [3. 4.]]\n",
      "\n",
      " [[5. 6.]\n",
      "  [7. 8.]]]\n"
     ]
    },
    {
     "data": {
      "text/plain": [
       "\"this function will be useful when we have to clean the data, \\nin that we have to clear the footprint of the data \\nit means we have to reduce the size of the data\\nit's like age was stored in the floating data type then \\nwe have to work on it by converting it into datatype that we want\\n\""
      ]
     },
     "execution_count": 46,
     "metadata": {},
     "output_type": "execute_result"
    }
   ],
   "source": [
    "print(arr9.astype(\"float\"))\n",
    "'''this function will be useful when we have to clean the data, \n",
    "in that we have to clear the footprint of the data \n",
    "it means we have to reduce the size of the data\n",
    "it's like age was stored in the floating data type then \n",
    "we have to work on it by converting it into datatype that we want\n",
    "'''"
   ]
  },
  {
   "cell_type": "code",
   "execution_count": 47,
   "id": "316a3446",
   "metadata": {
    "scrolled": true
   },
   "outputs": [
    {
     "name": "stdout",
     "output_type": "stream",
     "text": [
      "float64\n",
      "[[ 0  1  2  3]\n",
      " [ 4  5  6  7]\n",
      " [ 8  9 10 11]]\n",
      "[[ 0.+0.j  1.+0.j  2.+0.j  3.+0.j]\n",
      " [ 4.+0.j  5.+0.j  6.+0.j  7.+0.j]\n",
      " [ 8.+0.j  9.+0.j 10.+0.j 11.+0.j]]\n"
     ]
    }
   ],
   "source": [
    "print(a2.dtype)\n",
    "print(a2.astype(\"int\"))\n",
    "print(a2.astype(\"complex\"))"
   ]
  },
  {
   "cell_type": "code",
   "execution_count": 48,
   "id": "78a4d5e1",
   "metadata": {},
   "outputs": [
    {
     "name": "stdout",
     "output_type": "stream",
     "text": [
      "Given array is :  [[[0 1]\n",
      "  [2 3]]\n",
      "\n",
      " [[4 5]\n",
      "  [6 7]]]\n",
      "Data type of the array a3 is :  int32\n",
      "Converted data type of a3 is :  [[[0. 1.]\n",
      "  [2. 3.]]\n",
      "\n",
      " [[4. 5.]\n",
      "  [6. 7.]]]\n"
     ]
    }
   ],
   "source": [
    "print(\"Given array is : \",a3)\n",
    "print(\"Data type of the array a3 is : \",a3.dtype)\n",
    "print(\"Converted data type of a3 is : \",a3.astype(np.float64))"
   ]
  },
  {
   "cell_type": "code",
   "execution_count": 49,
   "id": "b2b16983",
   "metadata": {},
   "outputs": [
    {
     "name": "stdout",
     "output_type": "stream",
     "text": [
      "[1.1 2.1 3.1]\n",
      "float64\n",
      "[1 2 3]\n",
      "int32\n"
     ]
    }
   ],
   "source": [
    "#change data type float into integer\n",
    "arr = np.array([1.1, 2.1, 3.1])\n",
    "print(arr)\n",
    "print(arr.dtype)\n",
    "newarr = arr.astype(np.int32)\n",
    "print(newarr)\n",
    "print(newarr.dtype)"
   ]
  },
  {
   "cell_type": "markdown",
   "id": "498577d2",
   "metadata": {},
   "source": [
    "actually when large amount of data is in floating data type then it will consume the large size of memory and when we will run this floating value data on the algorithm then it will run slow so eventually we will convert this data type in the integer data type and it will consume the half of the memory and it will run faster on the algorithm and reason for doing this was we don't needed the floating data type"
   ]
  },
  {
   "cell_type": "code",
   "execution_count": 50,
   "id": "46c91f9c",
   "metadata": {},
   "outputs": [],
   "source": [
    "#creating the random three-dimensional matrix   \n",
    "matrix1 = np.random.randint(0, 10, size=(3, 5, 2))  \n",
    "matrix2 = np.random.randint(0, 10, size=(3, 2, 5))  "
   ]
  },
  {
   "cell_type": "code",
   "execution_count": 51,
   "id": "db1ebf62",
   "metadata": {},
   "outputs": [
    {
     "data": {
      "text/plain": [
       "array([[[2, 3],\n",
       "        [8, 7],\n",
       "        [7, 1],\n",
       "        [0, 9],\n",
       "        [3, 2]],\n",
       "\n",
       "       [[9, 2],\n",
       "        [5, 7],\n",
       "        [9, 1],\n",
       "        [0, 3],\n",
       "        [1, 7]],\n",
       "\n",
       "       [[4, 0],\n",
       "        [1, 1],\n",
       "        [7, 5],\n",
       "        [1, 5],\n",
       "        [1, 5]]])"
      ]
     },
     "execution_count": 51,
     "metadata": {},
     "output_type": "execute_result"
    }
   ],
   "source": [
    "matrix1"
   ]
  },
  {
   "cell_type": "code",
   "execution_count": 52,
   "id": "4f184430",
   "metadata": {},
   "outputs": [
    {
     "data": {
      "text/plain": [
       "array([[[6, 4, 5, 0, 1],\n",
       "        [9, 3, 4, 7, 8]],\n",
       "\n",
       "       [[3, 6, 6, 0, 7],\n",
       "        [2, 2, 3, 9, 1]],\n",
       "\n",
       "       [[8, 0, 8, 0, 9],\n",
       "        [9, 9, 8, 6, 1]]])"
      ]
     },
     "execution_count": 52,
     "metadata": {},
     "output_type": "execute_result"
    }
   ],
   "source": [
    "matrix2"
   ]
  },
  {
   "cell_type": "markdown",
   "id": "79cfba32",
   "metadata": {},
   "source": [
    "* so basically when we are editing the videos or photos or any 3d pic, we are not editing those object but in real we are converting those videos or 3D photos in the matrix form, it may be of 2D or 3D or n dimensional and we are editing those data types in which those objects are stored."
   ]
  }
 ],
 "metadata": {
  "kernelspec": {
   "display_name": "Python 3 (ipykernel)",
   "language": "python",
   "name": "python3"
  },
  "language_info": {
   "codemirror_mode": {
    "name": "ipython",
    "version": 3
   },
   "file_extension": ".py",
   "mimetype": "text/x-python",
   "name": "python",
   "nbconvert_exporter": "python",
   "pygments_lexer": "ipython3",
   "version": "3.9.13"
  }
 },
 "nbformat": 4,
 "nbformat_minor": 5
}
